{
 "metadata": {
  "name": "",
  "signature": "sha256:fd071e9de1753758ce563377060951c6ebf518d002735f9166205c4f4ed12f57"
 },
 "nbformat": 3,
 "nbformat_minor": 0,
 "worksheets": [
  {
   "cells": [
    {
     "cell_type": "heading",
     "level": 1,
     "metadata": {},
     "source": [
      "Chord generation using constraints"
     ]
    },
    {
     "cell_type": "heading",
     "level": 3,
     "metadata": {},
     "source": [
      "This notebook generates chords (vertical pitch structure) from a baseline chord and under the following  constraints:"
     ]
    },
    {
     "cell_type": "raw",
     "metadata": {},
     "source": [
      "%%latex\n",
      "range\\\\\n",
      "pitch set (prime form)\\\\\n",
      "number of notes\\\\\n",
      "perceptual distance\\\\\n",
      "\n",
      "As usual, we must import the required python libraries"
     ]
    },
    {
     "cell_type": "code",
     "collapsed": false,
     "input": [
      "import numpy as np\n",
      "from music21 import *\n",
      "from IPython.display import Image\n",
      "from melodicSimilarity import *\n",
      "from music_tools import *\n",
      "%matplotlib inline\n",
      "\n",
      "#method for showing a music21 object WIP!\n",
      "def show_music(music_obj):\n",
      "    Image(filename=music_obj.write('lily.png'))"
     ],
     "language": "python",
     "metadata": {},
     "outputs": [],
     "prompt_number": 1
    },
    {
     "cell_type": "raw",
     "metadata": {},
     "source": [
      "%%latex\n",
      "Let's start with a C major triad and use it as a baseline to generate chords. We'll also declare some variables that we'll be used later on."
     ]
    },
    {
     "cell_type": "code",
     "collapsed": false,
     "input": [
      "baseline = np.array([60,64,67])\n",
      "prime_form = np.array([0,2.5,4,6.5])\n",
      "note_range = (60,84)\n",
      "max_number_notes = 8\n",
      "#MUSIC21\n",
      "c_major_21 = chord.Chord(baseline)\n",
      "c_major_21.lyric = \"baseline\"\n",
      "prime_form_21 = stream.Stream([note.Note(0),note.Note(2.5),note.Note(4), note.Note(6.5)])"
     ],
     "language": "python",
     "metadata": {},
     "outputs": [],
     "prompt_number": 2
    },
    {
     "cell_type": "heading",
     "level": 2,
     "metadata": {},
     "source": [
      "Baseline is a C Major triad<br>"
     ]
    },
    {
     "cell_type": "code",
     "collapsed": false,
     "input": [
      "Image(filename=c_major_21.write('lily.png'))"
     ],
     "language": "python",
     "metadata": {},
     "outputs": [
      {
       "metadata": {},
       "output_type": "pyout",
       "png": "[encoded data removed]",
       "prompt_number": 3,
       "text": [
        "<IPython.core.display.Image at 0x103f46710>"
       ]
      }
     ],
     "prompt_number": 3
    },
    {
     "cell_type": "heading",
     "level": 2,
     "metadata": {},
     "source": [
      "Generate chords based on the prime form {0, 2.5, 4, 6.5}<br>"
     ]
    },
    {
     "cell_type": "code",
     "collapsed": false,
     "input": [
      "Image(filename=prime_form_21.write('lily.png'))"
     ],
     "language": "python",
     "metadata": {},
     "outputs": [
      {
       "metadata": {},
       "output_type": "pyout",
       "png": "[encoded data removed]",
       "prompt_number": 4,
       "text": [
        "<IPython.core.display.Image at 0x104474090>"
       ]
      }
     ],
     "prompt_number": 4
    },
    {
     "cell_type": "raw",
     "metadata": {},
     "source": [
      "%%latex\n",
      "Realizations (pitch sets) of the {0, 2.5, 4, 6.5} prime form will be generated:\\\\\n",
      "\\hspace*{3em} within the range [C4,  C6]\\\\\n",
      "\\hspace*{3em} with quarter-tone resolution\\\\\n",
      "\\hspace*{3em} for all notes (C, C+, C\\#, ..., B+)\n"
     ]
    },
    {
     "cell_type": "code",
     "collapsed": false,
     "input": [
      "realizations = concrete_from_intervals(prime_form, note_range, resolution=0.5)"
     ],
     "language": "python",
     "metadata": {},
     "outputs": [],
     "prompt_number": 5
    },
    {
     "cell_type": "raw",
     "metadata": {},
     "source": [
      "%%latex\n",
      "We'll show two generated realizations, out of 23 (C, C+, C\\#,..., B+). First we need to convert them to music21 objects."
     ]
    },
    {
     "cell_type": "code",
     "collapsed": false,
     "input": [
      "note_list = []\n",
      "for midi_pitch in sorted(realizations[0]):\n",
      "    note_list.append(note.Note(midi_pitch))\n",
      "realization1 = stream.Stream(note_list)\n",
      "\n",
      "note_list = []\n",
      "for midi_pitch in sorted(realizations[-5]):\n",
      "    note_list.append(note.Note(midi_pitch))\n",
      "realization2 = stream.Stream(note_list)\n"
     ],
     "language": "python",
     "metadata": {},
     "outputs": [],
     "prompt_number": 6
    },
    {
     "cell_type": "raw",
     "metadata": {},
     "source": [
      "%%latex\n",
      "Here is one pitch set realization using C4 as 0. Notes in different octaves are treated as being different notes"
     ]
    },
    {
     "cell_type": "code",
     "collapsed": false,
     "input": [
      "Image(filename=realization1.write('lily.png'))"
     ],
     "language": "python",
     "metadata": {},
     "outputs": [
      {
       "metadata": {},
       "output_type": "pyout",
       "png": "[encoded data removed]",
       "prompt_number": 7,
       "text": [
        "<IPython.core.display.Image at 0x1063cc290>"
       ]
      }
     ],
     "prompt_number": 7
    },
    {
     "cell_type": "heading",
     "level": 4,
     "metadata": {},
     "source": [
      "Here is another one, using A+ as 0"
     ]
    },
    {
     "cell_type": "code",
     "collapsed": false,
     "input": [
      "Image(filename=realization2.write('lily.png'))"
     ],
     "language": "python",
     "metadata": {},
     "outputs": [
      {
       "metadata": {},
       "output_type": "pyout",
       "png": "[encoded data removed]",
       "prompt_number": 8,
       "text": [
        "<IPython.core.display.Image at 0x107035090>"
       ]
      }
     ],
     "prompt_number": 8
    },
    {
     "cell_type": "raw",
     "metadata": {},
     "source": [
      "%%latex\n",
      "Let's generate all possible combinations of all these realizations (pitch sets) with at least 2 and at most 8 notes."
     ]
    },
    {
     "cell_type": "code",
     "collapsed": false,
     "input": [
      "combinations = []\n",
      "for realization in realizations:\n",
      "    combinations.append(generate_combinations(realization, (2,8)))"
     ],
     "language": "python",
     "metadata": {},
     "outputs": [],
     "prompt_number": 9
    },
    {
     "cell_type": "raw",
     "metadata": {},
     "source": [
      "%%latex\n",
      "We'll show the generated pitches of the chords of two possible combinations."
     ]
    },
    {
     "cell_type": "code",
     "collapsed": false,
     "input": [
      "notes1 = midi_note_to_music21(sorted(combinations[0][0]))\n",
      "stream1 = stream.Stream(notes1)"
     ],
     "language": "python",
     "metadata": {},
     "outputs": [],
     "prompt_number": 10
    },
    {
     "cell_type": "heading",
     "level": 2,
     "metadata": {},
     "source": [
      "Possible combination"
     ]
    },
    {
     "cell_type": "code",
     "collapsed": false,
     "input": [
      "Image(filename=stream1.write('lily.png'))"
     ],
     "language": "python",
     "metadata": {},
     "outputs": [
      {
       "metadata": {},
       "output_type": "pyout",
       "png": "[encoded data removed]",
       "prompt_number": 11,
       "text": [
        "<IPython.core.display.Image at 0x107035050>"
       ]
      }
     ],
     "prompt_number": 11
    },
    {
     "cell_type": "code",
     "collapsed": false,
     "input": [
      "notes2 = midi_note_to_music21(sorted(combinations[5][154]))\n",
      "stream2 = stream.Stream(notes2)"
     ],
     "language": "python",
     "metadata": {},
     "outputs": [],
     "prompt_number": 12
    },
    {
     "cell_type": "heading",
     "level": 2,
     "metadata": {},
     "source": [
      "Another possible combination"
     ]
    },
    {
     "cell_type": "code",
     "collapsed": false,
     "input": [
      "Image(filename=stream2.write('lily.png'))"
     ],
     "language": "python",
     "metadata": {},
     "outputs": [
      {
       "metadata": {},
       "output_type": "pyout",
       "png": "[encoded data removed]",
       "prompt_number": 13,
       "text": [
        "<IPython.core.display.Image at 0x1070269d0>"
       ]
      }
     ],
     "prompt_number": 13
    },
    {
     "cell_type": "raw",
     "metadata": {},
     "source": [
      "%%latex\n",
      "So far, we have chords generated based on the {0,2.5,4,6.5} prime form and within the range [C4,C6]. We'll filter these chords (combinations) according to their distance to the C Major triad."
     ]
    },
    {
     "cell_type": "code",
     "collapsed": false,
     "input": [
      "good_fit = []\n",
      "for combination in combinations:\n",
      "    solutions = filterByDistance(baseline, combination, (0.5, 1.5))\n",
      "    if solutions:\n",
      "        good_fit.append(solutions)\n",
      "good_fit = np.unique(np.array(good_fit))[0]"
     ],
     "language": "python",
     "metadata": {},
     "outputs": [],
     "prompt_number": 14
    },
    {
     "cell_type": "code",
     "collapsed": false,
     "input": [
      "stream1 = stream.Stream()\n",
      "stream1.insert(metadata.Metadata())\n",
      "stream1.metadata.title = \"Combinations within [0.5, 1.5] distance\"\n",
      "stream1.metadata.composer = \"Computer\"\n",
      "one_four = meter.TimeSignature('1/4')\n",
      "stream1.append(one_four)\n",
      "stream1.append(c_major_21)\n",
      "for solution in good_fit:\n",
      "  chord1 = chord.Chord(midi_note_to_music21(solution))\n",
      "  stream1.append(chord1)"
     ],
     "language": "python",
     "metadata": {},
     "outputs": [],
     "prompt_number": 15
    },
    {
     "cell_type": "heading",
     "level": 2,
     "metadata": {},
     "source": [
      "Combinations within [0.5, 1.5] distance from baseline."
     ]
    },
    {
     "cell_type": "code",
     "collapsed": false,
     "input": [
      "Image(filename=stream1.write('lily.png'))"
     ],
     "language": "python",
     "metadata": {},
     "outputs": [
      {
       "metadata": {},
       "output_type": "pyout",
       "png": "[encoded data removed]",
       "prompt_number": 16,
       "text": [
        "<IPython.core.display.Image at 0x1044747d0>"
       ]
      }
     ],
     "prompt_number": 16
    },
    {
     "cell_type": "code",
     "collapsed": false,
     "input": [
      "good_fit = []\n",
      "for combination in combinations:\n",
      "    solutions = filterByDistance(baseline, combination, (5.0, 5.05))\n",
      "    if solutions:\n",
      "        good_fit.append(solutions[0])\n",
      "good_fit = np.unique(np.array(good_fit))"
     ],
     "language": "python",
     "metadata": {},
     "outputs": [],
     "prompt_number": 17
    },
    {
     "cell_type": "code",
     "collapsed": false,
     "input": [
      "stream1 = stream.Stream()\n",
      "stream1.insert(metadata.Metadata())\n",
      "stream1.metadata.title = \"Combinations within [5.0, 5.05] distance\"\n",
      "stream1.metadata.composer = \"Computer\"\n",
      "one_four = meter.TimeSignature('1/4')\n",
      "stream1.append(one_four)\n",
      "stream1.append(c_major_21)\n",
      "for solution in good_fit:\n",
      "  chord1 = chord.Chord(midi_note_to_music21(solution))\n",
      "  stream1.append(chord1)"
     ],
     "language": "python",
     "metadata": {},
     "outputs": [],
     "prompt_number": 18
    },
    {
     "cell_type": "heading",
     "level": 2,
     "metadata": {},
     "source": [
      "Combinations within [5.0, 5.05] distance from baseline."
     ]
    },
    {
     "cell_type": "code",
     "collapsed": false,
     "input": [
      "Image(filename=stream1.write('lily.png'))"
     ],
     "language": "python",
     "metadata": {},
     "outputs": [
      {
       "metadata": {},
       "output_type": "pyout",
       "png": "[encoded data removed]",
       "prompt_number": 19,
       "text": [
        "<IPython.core.display.Image at 0x1070f9fd0>"
       ]
      }
     ],
     "prompt_number": 19
    }
   ],
   "metadata": {}
  }
 ]
}