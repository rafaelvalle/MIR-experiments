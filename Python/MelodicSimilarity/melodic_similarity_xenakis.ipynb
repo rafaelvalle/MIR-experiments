{
 "metadata": {
  "name": "",
  "signature": "sha256:6b469a8c4a0c8dccc9bdf09b079a131e61f854ad19185cabf0412738fa19d98e"
 },
 "nbformat": 3,
 "nbformat_minor": 0,
 "worksheets": [
  {
   "cells": [
    {
     "cell_type": "heading",
     "level": 1,
     "metadata": {},
     "source": [
      "Melodic Similarity Xenakis Studies"
     ]
    },
    {
     "cell_type": "heading",
     "level": 4,
     "metadata": {},
     "source": [
      "This notebook compares the melodic similarity of excerpts of \n",
      "Contemporary Music inspired excerpts"
     ]
    },
    {
     "cell_type": "heading",
     "level": 4,
     "metadata": {},
     "source": [
      "Load the necessary Python libraries"
     ]
    },
    {
     "cell_type": "code",
     "collapsed": false,
     "input": [
      "import numpy as np\n",
      "import scipy as sp\n",
      "import matplotlib.pylab as plt\n",
      "%matplotlib inline\n",
      "import music21\n",
      "music21.environment.set('musicxmlPath', '/Applications/MuseScore.app')\n",
      "from music21 import *\n",
      "from IPython.display import Image\n",
      "from melodic_similarity import *\n",
      "from music_tools import *\n",
      "from scipy.spatial.distance import cosine"
     ],
     "language": "python",
     "metadata": {},
     "outputs": [],
     "prompt_number": 22
    },
    {
     "cell_type": "code",
     "collapsed": false,
     "input": [
      "#matplotlib configurations\n",
      "#font settings\n",
      "font = {'weight' : 'normal', \n",
      "        'size'   : 14}\n",
      "\n",
      "plt.rc('font', **font)"
     ],
     "language": "python",
     "metadata": {},
     "outputs": [],
     "prompt_number": 23
    },
    {
     "cell_type": "code",
     "collapsed": false,
     "input": [
      "start_x = 0\n",
      "end_x = 4000\n",
      "start_y = 36\n",
      "n_voices = 10\n",
      "entrance_offset = end_x / n_voices\n",
      "increase_factor = -0.25\n",
      "gliss_shapes = {}\n",
      "for voice_idx in xrange(n_voices):\n",
      "    gliss_shapes[voice_idx] = ([entrance_offset * voice_idx, end_x],[start_y + increase_factor*voice_idx, start_y + (4*voice_idx) ])\n",
      "gliss_shapes[0]"
     ],
     "language": "python",
     "metadata": {},
     "outputs": [
      {
       "metadata": {},
       "output_type": "pyout",
       "prompt_number": 24,
       "text": [
        "([0, 4000], [36.0, 36])"
       ]
      }
     ],
     "prompt_number": 24
    },
    {
     "cell_type": "code",
     "collapsed": false,
     "input": [
      "i=1\n",
      "for label, values in sorted(gliss_shapes.items()):\n",
      "    this_color = plt.cm.RdYlBu(i*1.0/len(gliss_shapes))\n",
      "    plt.plot(values[0], values[1], color=this_color)    \n",
      "    i += 1\n",
      "\n",
      "plt.xlim(-200, end_x + 200)\n",
      "#plt.ylim(61.5,start+0.5)\n",
      "#plt.xticks(np.arange(0, 4000, 400))\n",
      "#plt.yticks([62,66,71,72])\n",
      "plt.ylabel('MIDI Note', fontsize=18)\n",
      "plt.xlabel('Time(ms)', fontsize=18)\n",
      "plt.savefig('xenakis')"
     ],
     "language": "python",
     "metadata": {},
     "outputs": [
      {
       "metadata": {},
       "output_type": "display_data",
       "png": "[encoded data removed]",
       "text": [
        "<matplotlib.figure.Figure at 0x107b74910>"
       ]
      }
     ],
     "prompt_number": 25
    },
    {
     "cell_type": "code",
     "collapsed": false,
     "input": [
      "gliss1_quantization = {}\n",
      "for name, melody in gliss_shapes.items():\n",
      "    start_end, notes = melody\n",
      "    duration = start_end[1] - start_end[0]\n",
      "    gliss1_quantization[name] = (quantizeGlissando(notes[0], notes[1], duration), duration)"
     ],
     "language": "python",
     "metadata": {},
     "outputs": [],
     "prompt_number": 5
    },
    {
     "cell_type": "code",
     "collapsed": false,
     "input": [
      "start_x = 0\n",
      "end_x = 5000\n",
      "start_y = 36\n",
      "n_voices = 15\n",
      "increase_factor = 1\n",
      "entrance_offset = end_x / n_voices\n",
      "\n",
      "gliss_shapes = {}\n",
      "for voice_idx in xrange(n_voices):\n",
      "    gliss_shapes[voice_idx] = ([entrance_offset * voice_idx, end_x],[start_y + increase_factor*voice_idx, start_y + (4*voice_idx) ])\n",
      "gliss_shapes[0]"
     ],
     "language": "python",
     "metadata": {},
     "outputs": [
      {
       "metadata": {},
       "output_type": "pyout",
       "prompt_number": 6,
       "text": [
        "([0, 5000], [36, 36])"
       ]
      }
     ],
     "prompt_number": 6
    },
    {
     "cell_type": "code",
     "collapsed": false,
     "input": [
      "i=1\n",
      "for label, values in sorted(gliss_shapes.items()):\n",
      "    this_color = plt.cm.RdYlBu(i*1.0/len(gliss_shapes))\n",
      "    plt.plot(values[0], values[1], color=this_color)    \n",
      "    i += 1\n",
      "\n",
      "plt.xlim(-200, end_x + 200)\n",
      "#plt.ylim(61.5,start+0.5)\n",
      "#plt.xticks(np.arange(0, 4000, 400))\n",
      "#plt.yticks([62,66,71,72])\n",
      "plt.ylabel('MIDI Note', fontsize=18)\n",
      "plt.xlabel('Time(ms)', fontsize=18)"
     ],
     "language": "python",
     "metadata": {},
     "outputs": [
      {
       "metadata": {},
       "output_type": "pyout",
       "prompt_number": 7,
       "text": [
        "<matplotlib.text.Text at 0x1079ccc50>"
       ]
      },
      {
       "metadata": {},
       "output_type": "display_data",
       "png": "[encoded data removed]",
       "text": [
        "<matplotlib.figure.Figure at 0x1079365d0>"
       ]
      }
     ],
     "prompt_number": 7
    },
    {
     "cell_type": "code",
     "collapsed": false,
     "input": [
      "gliss2_quantization = {}\n",
      "for name, melody in gliss_shapes.items():\n",
      "    start_end, notes = melody\n",
      "    duration = start_end[1] - start_end[0]\n",
      "    gliss2_quantization[name] = (quantizeGlissando(notes[0], notes[1], duration), duration)\n",
      "gliss2_quantization[0]"
     ],
     "language": "python",
     "metadata": {},
     "outputs": [
      {
       "metadata": {},
       "output_type": "pyout",
       "prompt_number": 8,
       "text": [
        "(array([36]), 5000)"
       ]
      }
     ],
     "prompt_number": 8
    },
    {
     "cell_type": "code",
     "collapsed": false,
     "input": [
      "start_x = 0\n",
      "end_x = 6000\n",
      "start_y = 36\n",
      "n_voices = 20\n",
      "increase_factor = 4\n",
      "entrance_offset = end_x / n_voices\n",
      "\n",
      "gliss_shapes = {}\n",
      "for voice_idx in xrange(n_voices):\n",
      "    gliss_shapes[voice_idx] = ([entrance_offset * voice_idx, end_x],[start_y + increase_factor*voice_idx, start_y + (4*voice_idx) ])\n",
      "gliss_shapes[0]"
     ],
     "language": "python",
     "metadata": {},
     "outputs": [
      {
       "metadata": {},
       "output_type": "pyout",
       "prompt_number": 9,
       "text": [
        "([0, 6000], [36, 36])"
       ]
      }
     ],
     "prompt_number": 9
    },
    {
     "cell_type": "code",
     "collapsed": false,
     "input": [
      "i=1\n",
      "for label, values in sorted(gliss_shapes.items()):\n",
      "    this_color = plt.cm.RdYlBu(i*1.0/len(gliss_shapes))\n",
      "    plt.plot(values[0], values[1], color=this_color)    \n",
      "    i += 1\n",
      "\n",
      "plt.xlim(-200, end_x + 200)\n",
      "#plt.ylim(61.5,start+0.5)\n",
      "#plt.xticks(np.arange(0, 4000, 400))\n",
      "#plt.yticks([62,66,71,72])\n",
      "plt.ylabel('MIDI Note', fontsize=18)\n",
      "plt.xlabel('Time(ms)', fontsize=18)"
     ],
     "language": "python",
     "metadata": {},
     "outputs": [
      {
       "metadata": {},
       "output_type": "pyout",
       "prompt_number": 10,
       "text": [
        "<matplotlib.text.Text at 0x10791cc10>"
       ]
      },
      {
       "metadata": {},
       "output_type": "display_data",
       "png": "[encoded data removed]",
       "text": [
        "<matplotlib.figure.Figure at 0x1078ed850>"
       ]
      }
     ],
     "prompt_number": 10
    },
    {
     "cell_type": "code",
     "collapsed": false,
     "input": [
      "gliss3_quantization = {}\n",
      "for name, melody in gliss_shapes.items():\n",
      "    start_end, notes = melody\n",
      "    duration = start_end[1] - start_end[0]\n",
      "    gliss3_quantization[name] = (quantizeGlissando(notes[0], notes[1], duration), duration)\n",
      "gliss3_quantization[0]"
     ],
     "language": "python",
     "metadata": {},
     "outputs": [
      {
       "metadata": {},
       "output_type": "pyout",
       "prompt_number": 11,
       "text": [
        "(array([36]), 6000)"
       ]
      }
     ],
     "prompt_number": 11
    },
    {
     "cell_type": "heading",
     "level": 2,
     "metadata": {},
     "source": [
      "Polyphonic Similarity (Voice Based)"
     ]
    },
    {
     "cell_type": "code",
     "collapsed": false,
     "input": [
      "pieces = {}\n",
      "similarities = {}\n",
      "pieces[1] = gliss1_quantization\n",
      "pieces[2] = gliss2_quantization\n",
      "pieces[3] = gliss3_quantization"
     ],
     "language": "python",
     "metadata": {},
     "outputs": [],
     "prompt_number": 12
    },
    {
     "cell_type": "code",
     "collapsed": false,
     "input": [
      "for name, music in pieces.items():\n",
      "    similarities['1 and %d' % name] = voiceBasedSimilarity(gliss1_quantization, music)"
     ],
     "language": "python",
     "metadata": {},
     "outputs": [],
     "prompt_number": 13
    },
    {
     "cell_type": "code",
     "collapsed": false,
     "input": [
      "for pair, results in sorted(similarities.items()):\n",
      "    print pair, sum(results[0].values())/len(results[0].keys()), sum(results[1].values())/len(results[1].keys())"
     ],
     "language": "python",
     "metadata": {},
     "outputs": [
      {
       "output_type": "stream",
       "stream": "stdout",
       "text": [
        "1 and 1 0.248716764953 0.391712233372\n",
        "1 and 2 0.182481340617 0.319120262988\n",
        "1 and 3 0.0688416185264 0.335015187982\n"
       ]
      }
     ],
     "prompt_number": 15
    },
    {
     "cell_type": "code",
     "collapsed": false,
     "input": [
      "#for plotting   \n",
      "#length = len(chords.keys())\n",
      "#indices = np.arange(length)\n",
      "width = 0.2\n",
      "idx=0\n",
      "for pair, results in sorted(similarities.items()):\n",
      "    pitch = sum(results[0].values())/len(results[0].keys())\n",
      "    rhythm = sum(results[1].values())/len(results[1].keys())\n",
      "    plt.bar(idx, pitch, color=plt.cm.RdYlBu(0.3), label='Pitch') \n",
      "    plt.bar(idx+1, rhythm, color=plt.cm.RdYlBu(0.6),label='Rhythm')\n",
      "    plt.bar(idx+2, (pitch+rhythm)*0.5, color=plt.cm.RdYlBu(0.9), label='Average') \n",
      "    idx += 4\n",
      "\n",
      "\n",
      "plt.legend(prop={'size':14})\n",
      "plt.legend((('Pitch'), ('Rhythm'), ('Average')))\n",
      "plt.ylim(0,0.7)\n",
      "plt.ylabel(\"Similarity\", fontsize=18)\n",
      "plt.xticks([1.4, 5.4, 9.4], ['1', '2', '3'])\n",
      "#plt.yticks(np.arange(1,6)*0.2)"
     ],
     "language": "python",
     "metadata": {},
     "outputs": [
      {
       "metadata": {},
       "output_type": "pyout",
       "prompt_number": 33,
       "text": [
        "([<matplotlib.axis.XTick at 0x109cdbe50>,\n",
        "  <matplotlib.axis.XTick at 0x109f06d90>,\n",
        "  <matplotlib.axis.XTick at 0x10a2fad90>],\n",
        " <a list of 3 Text xticklabel objects>)"
       ]
      },
      {
       "metadata": {},
       "output_type": "display_data",
       "png": "[encoded data removed]",
       "text": [
        "<matplotlib.figure.Figure at 0x109f97b10>"
       ]
      }
     ],
     "prompt_number": 33
    },
    {
     "cell_type": "heading",
     "level": 2,
     "metadata": {},
     "source": [
      "Garota de Ipanema"
     ]
    },
    {
     "cell_type": "code",
     "collapsed": false,
     "input": [
      "durations = [0, 1000, 1500, 2000, 3000, 3500,4000,5000]\n",
      "pitches = [67,67,64,64,64,62,67,67]\n",
      "\n",
      "for idx in xrange(len(pitches)-1):\n",
      "    pitch = (pitches[idx],pitches[idx])\n",
      "    time = (durations[idx], durations[idx+1])\n",
      "    print (pitch, time)\n",
      "    plt.plot(time, pitch, color='red')\n",
      "\n",
      "plt.scatter(durations[:-1], pitches[:-1], color='red')\n",
      "    \n",
      "plt.xlim(-200, 5200)\n",
      "#plt.ylim(61.5,start+0.5)\n",
      "#plt.xticks(np.arange(0, 4000, 400))\n",
      "plt.yticks([62,64,67], ['D4', 'E4', 'G4'])\n",
      "plt.ylabel('Pitch', fontsize=18)\n",
      "plt.xlabel('Time(ms)', fontsize=18)"
     ],
     "language": "python",
     "metadata": {},
     "outputs": [
      {
       "output_type": "stream",
       "stream": "stdout",
       "text": [
        "((67, 67), (0, 1000))\n",
        "((67, 67), (1000, 1500))\n",
        "((64, 64), (1500, 2000))\n",
        "((64, 64), (2000, 3000))"
       ]
      },
      {
       "output_type": "stream",
       "stream": "stdout",
       "text": [
        "\n",
        "((64, 64), (3000, 3500))\n",
        "((62, 62), (3500, 4000))\n",
        "((67, 67), (4000, 5000))\n"
       ]
      },
      {
       "metadata": {},
       "output_type": "pyout",
       "prompt_number": 34,
       "text": [
        "<matplotlib.text.Text at 0x10a337450>"
       ]
      },
      {
       "metadata": {},
       "output_type": "display_data",
       "png": "[encoded data removed]",
       "text": [
        "<matplotlib.figure.Figure at 0x109d00850>"
       ]
      }
     ],
     "prompt_number": 34
    }
   ],
   "metadata": {}
  }
 ]
}