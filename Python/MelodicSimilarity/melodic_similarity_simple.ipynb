{
 "metadata": {
  "name": "",
  "signature": "sha256:87bf2602914a69fb85e16cf0657141843e8f788b83f22bbc4b3c9a44b6d17eaa"
 },
 "nbformat": 3,
 "nbformat_minor": 0,
 "worksheets": [
  {
   "cells": [
    {
     "cell_type": "heading",
     "level": 1,
     "metadata": {},
     "source": [
      "Melodic Similarity Simple"
     ]
    },
    {
     "cell_type": "heading",
     "level": 4,
     "metadata": {},
     "source": [
      "This notebook compares the melodic similarity of excerpts of \n",
      "Bach's Violin Concerto in E Major, 1st Movement<br>\n",
      "<p> Similarity is computed using three features :<br>\n",
      "    Rhythm<br>\n",
      "    Intervalic consonance<br>\n",
      "    Pitch contour</p>  \n",
      "<br>\n",
      "Notice that although not present in the examples, the model is able to handle continuous frequency and duration."
     ]
    },
    {
     "cell_type": "heading",
     "level": 4,
     "metadata": {},
     "source": [
      "Load the necessary Python libraries"
     ]
    },
    {
     "cell_type": "code",
     "collapsed": false,
     "input": [
      "import numpy as np\n",
      "import matplotlib.pylab as plt\n",
      "%matplotlib inline\n",
      "import music21\n",
      "music21.environment.set('musicxmlPath', '/Applications/MuseScore.app')\n",
      "from music21 import *\n",
      "from IPython.display import Image\n",
      "from melodic_similarity import *\n",
      "from music_tools import *"
     ],
     "language": "python",
     "metadata": {},
     "outputs": [],
     "prompt_number": 2
    },
    {
     "cell_type": "heading",
     "level": 4,
     "metadata": {},
     "source": [
      "Load and exhibit the melodic excerpts"
     ]
    },
    {
     "cell_type": "code",
     "collapsed": false,
     "input": [
      "media = {}"
     ],
     "language": "python",
     "metadata": {},
     "outputs": [],
     "prompt_number": 3
    },
    {
     "cell_type": "code",
     "collapsed": false,
     "input": [
      "bach_lick1 = \"4/4 a'16 g'# f'# a' g'# f'# e' g'# f'# e' d'# c'# b a g# f#\"\n",
      "bach_lick1_mus21 = tinyNotation.TinyNotationStream(bach_lick1)\n",
      "media['bach_lick1'] = ([x.midi for x in bach_lick1_mus21.pitches], [x.duration.quarterLength for x in bach_lick1_mus21.notes], bach_lick1_mus21)\n",
      "Image(filename=bach_lick1_mus21.write('lily.png')) "
     ],
     "language": "python",
     "metadata": {},
     "outputs": [
      {
       "metadata": {},
       "output_type": "pyout",
       "png": "[encoded data removed]",
       "prompt_number": 26,
       "text": [
        "<IPython.core.display.Image at 0x109ccfd50>"
       ]
      }
     ],
     "prompt_number": 26
    },
    {
     "cell_type": "code",
     "collapsed": false,
     "input": [
      "bach_lick3 = \"4/4 b16 a' f'# e' d'# f'# d'# c'# b g'# e' d'# c'# e' c'# b\"\n",
      "bach_lick3_mus21 = tinyNotation.TinyNotationStream(bach_lick3)\n",
      "media['bach_lick3'] = ([x.midi for x in bach_lick3_mus21.pitches], [x.duration.quarterLength for x in bach_lick3_mus21.notes], bach_lick3_mus21)\n",
      "Image(filename=bach_lick3_mus21.write('lily.png')) "
     ],
     "language": "python",
     "metadata": {},
     "outputs": [
      {
       "metadata": {},
       "output_type": "pyout",
       "png": "[encoded data removed]",
       "prompt_number": 27,
       "text": [
        "<IPython.core.display.Image at 0x1099d4490>"
       ]
      }
     ],
     "prompt_number": 27
    },
    {
     "cell_type": "heading",
     "level": 4,
     "metadata": {},
     "source": [
      "Generate all possible pairs and compute their distances"
     ]
    },
    {
     "cell_type": "code",
     "collapsed": false,
     "input": [
      "indices = {}\n",
      "idx = 0\n",
      "for item in sorted(media.keys()):\n",
      "    indices[item] = idx\n",
      "    idx += 1\n",
      "sorted_labels = sorted(indices.keys())\n",
      "combinations = generate_combinations(media.keys(),(2,2))\n",
      "combinations"
     ],
     "language": "python",
     "metadata": {},
     "outputs": [
      {
       "metadata": {},
       "output_type": "pyout",
       "prompt_number": 9,
       "text": [
        "[['bach_lick1', 'bach_lick3']]"
       ]
      }
     ],
     "prompt_number": 9
    },
    {
     "cell_type": "code",
     "collapsed": false,
     "input": [
      "distances = []\n",
      "for lick1, lick2 in sorted(combinations):\n",
      "    harmony_distance,_ = DTW(media[lick1][0], media[lick2][0])\n",
      "    rhythm_distance,_ = DTW(media[lick1][1], media[lick2][1])\n",
      "    lick1_np = np.array(media[lick1][0])\n",
      "    lick1_intervals = lick1_np[1:] - lick1_np[:-1]\n",
      "    lick2_np = np.array(media[lick2][0])\n",
      "    lick2_intervals = lick2_np[1:] - lick2_np[:-1]\n",
      "    contour_distance, _ = DTW(lick1_intervals, lick2_intervals, intervalicDistance)\n",
      "    distances.append(((harmony_distance , rhythm_distance, contour_distance), (lick1,lick2)))"
     ],
     "language": "python",
     "metadata": {},
     "outputs": [],
     "prompt_number": 10
    },
    {
     "cell_type": "heading",
     "level": 2,
     "metadata": {},
     "source": [
      "Harmonic Distance (Intervalic Consonance)"
     ]
    },
    {
     "cell_type": "code",
     "collapsed": false,
     "input": [
      "by_harmony = sorted(map(lambda distance: (distance[0][0], distance[1]), distances))\n",
      "by_harmony_matrix = np.zeros((len(indices),len(indices)))\n",
      "for distance, (lickA, lickB) in by_harmony:\n",
      "    row, col = (indices[lickA], indices[lickB])\n",
      "    by_harmony_matrix[row,col] = distance\n",
      "    by_harmony_matrix[col,row] = distance"
     ],
     "language": "python",
     "metadata": {},
     "outputs": [],
     "prompt_number": 24
    },
    {
     "cell_type": "code",
     "collapsed": false,
     "input": [
      "fig = plt.figure(figsize=(4,4), dpi=500)\n",
      "plt.imshow(by_harmony_matrix, interpolation='nearest', cmap=plt.cm.BuPu)\n",
      "plt.xticks(np.arange(0,2), ['Lick 1', 'Lick 2'], rotation='vertical')\n",
      "plt.yticks(np.arange(0,2), ['Lick 1', 'Lick 2'], rotation='horizontal')\n",
      "plt.title(\"Harmonic distance\")\n",
      "plt.colorbar()"
     ],
     "language": "python",
     "metadata": {},
     "outputs": [
      {
       "metadata": {},
       "output_type": "pyout",
       "prompt_number": 25,
       "text": [
        "<matplotlib.colorbar.Colorbar instance at 0x109d64560>"
       ]
      },
      {
       "metadata": {},
       "output_type": "display_data",
       "png": "[encoded data removed]",
       "text": [
        "<matplotlib.figure.Figure at 0x108b35a10>"
       ]
      }
     ],
     "prompt_number": 25
    },
    {
     "cell_type": "heading",
     "level": 2,
     "metadata": {},
     "source": [
      "Rhythmic Distance"
     ]
    },
    {
     "cell_type": "code",
     "collapsed": false,
     "input": [
      "by_duration = sorted(map(lambda distance: (distance[0][1], distance[1]), distances))\n",
      "by_duration_max = max(by_duration)[0]\n",
      "by_duration_matrix = np.zeros((len(indices),len(indices)))\n",
      "for distance, (lickA, lickB) in by_duration:\n",
      "    row, col = (indices[lickA], indices[lickB])\n",
      "    by_duration_matrix[row,col] = distance/by_duration_max\n",
      "    by_duration_matrix[col,row] = distance/by_duration_max"
     ],
     "language": "python",
     "metadata": {},
     "outputs": [],
     "prompt_number": 12
    },
    {
     "cell_type": "heading",
     "level": 2,
     "metadata": {},
     "source": [
      "Contour Distance"
     ]
    },
    {
     "cell_type": "code",
     "collapsed": false,
     "input": [
      "by_contour = sorted(map(lambda distance: (10 * distance[0][2], distance[1]), distances))\n",
      "by_contour_max = max(by_contour)[0]\n",
      "by_contour_matrix = np.zeros((len(indices),len(indices)))\n",
      "for distance, (lickA, lickB) in by_contour:\n",
      "    row, col = (indices[lickA], indices[lickB])\n",
      "    by_contour_matrix[row,col] = distance/by_contour_max\n",
      "    by_contour_matrix[col,row] = distance/by_contour_max"
     ],
     "language": "python",
     "metadata": {},
     "outputs": [],
     "prompt_number": 13
    },
    {
     "cell_type": "heading",
     "level": 2,
     "metadata": {},
     "source": [
      "Average Distance"
     ]
    },
    {
     "cell_type": "code",
     "collapsed": false,
     "input": [
      "by_all = sorted(map(lambda distance: ((distance[0][0]/by_harmony_max + distance[0][1]/by_duration_max + distance[0][2]/by_contour_max), distance[1]), distances))\n",
      "by_all_matrix = np.zeros((len(indices),len(indices)))\n",
      "by_all\n",
      "\n",
      "for distance, (lickA, lickB) in by_all:\n",
      "    row, col = indices[lickA], indices[lickB]\n",
      "    by_all_matrix[row,col] = distance/3\n",
      "    by_all_matrix[col,row] = distance/3"
     ],
     "language": "python",
     "metadata": {},
     "outputs": [],
     "prompt_number": 14
    },
    {
     "cell_type": "heading",
     "level": 4,
     "metadata": {},
     "source": [
      "Prepare and plot the distance matrices"
     ]
    },
    {
     "cell_type": "code",
     "collapsed": false,
     "input": [
      "fig = plt.figure(figsize=(14,10), dpi=300)\n",
      "fig.subplots_adjust(hspace=0.5)\n",
      "\n",
      "fig.add_subplot(221)\n",
      "plt.imshow(by_harmony_matrix, interpolation='nearest', cmap=plt.cm.BuPu)\n",
      "plt.xticks(np.arange(0,6), sorted_labels, rotation='vertical')\n",
      "plt.yticks(np.arange(0,6), sorted_labels, rotation='horizontal')\n",
      "plt.title(\"Harmonic distance\")\n",
      "plt.colorbar()\n",
      "\n",
      "fig.add_subplot(222)\n",
      "plt.imshow(by_duration_matrix, interpolation='nearest', cmap=plt.cm.BuPu)\n",
      "plt.xticks(np.arange(0,6), sorted_labels, rotation='vertical')\n",
      "plt.yticks(np.arange(0,6), sorted_labels, rotation='horizontal')\n",
      "plt.title(\"Rhythmic distance\")\n",
      "plt.colorbar()\n",
      "\n",
      "fig.add_subplot(223)\n",
      "plt.imshow(by_contour_matrix, interpolation='nearest', cmap=plt.cm.BuPu)\n",
      "plt.xticks(np.arange(0,6), sorted_labels, rotation='vertical')\n",
      "plt.yticks(np.arange(0,6), sorted_labels, rotation='horizontal')\n",
      "plt.title(\"Contour distance\")\n",
      "plt.colorbar()\n",
      "\n",
      "fig.add_subplot(224)\n",
      "plt.imshow(by_all_matrix, interpolation='nearest', cmap=plt.cm.BuPu)\n",
      "plt.xticks(np.arange(0,6), sorted_labels, rotation='vertical')\n",
      "plt.yticks(np.arange(0,6), sorted_labels, rotation='horizontal')\n",
      "plt.title(\"Average distance\")\n",
      "plt.colorbar()\n",
      "\n",
      "plt.show()  "
     ],
     "language": "python",
     "metadata": {},
     "outputs": [
      {
       "metadata": {},
       "output_type": "display_data",
       "png": "[encoded data removed]",
       "text": [
        "<matplotlib.figure.Figure at 0x1071a6210>"
       ]
      }
     ],
     "prompt_number": 15
    },
    {
     "cell_type": "code",
     "collapsed": false,
     "input": [],
     "language": "python",
     "metadata": {},
     "outputs": []
    }
   ],
   "metadata": {}
  }
 ]
}