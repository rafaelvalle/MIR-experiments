{
 "metadata": {
  "name": "",
  "signature": "sha256:7211abc92e389599f02bb685fa737b0c7c7ec4e2002e05478515ea715587e121"
 },
 "nbformat": 3,
 "nbformat_minor": 0,
 "worksheets": [
  {
   "cells": [
    {
     "cell_type": "heading",
     "level": 1,
     "metadata": {},
     "source": [
      "Glissandi Perception"
     ]
    },
    {
     "cell_type": "code",
     "collapsed": false,
     "input": [
      "import random\n",
      "import numpy as np\n",
      "import scipy as sp\n",
      "from scipy import optimize\n",
      "import matplotlib.pylab as plt\n",
      "import music21\n",
      "from fractions import Fraction\n",
      "from IPython.display import Image\n",
      "import melodic_similarity, music_tools\n",
      "from melodic_similarity import *\n",
      "from music_tools import *\n",
      "%matplotlib inline\n",
      "from sklearn import linear_model\n",
      "\n",
      "#method for showing a tune\n",
      "def show_tune(tune):\n",
      "    return Image(filename=music21.converter.parse('tinynotation: 4/4 ' + tune).write('lily.png'))\n",
      "\n",
      "#method for rotating a regular python list\n",
      "def rotate(array_object, idx):\n",
      "    return array_object[idx:] + array_object[:idx]"
     ],
     "language": "python",
     "metadata": {},
     "outputs": [],
     "prompt_number": 3
    },
    {
     "cell_type": "code",
     "collapsed": false,
     "input": [
      "distance_halfsteps = [0, 0.25, 0.5, 0.75, 1,2,3,6,12,18,24,36]\n",
      "articulations_min = [6, 6.5, 7, 7.5, 8, 12, 20, 30, 42, 50, 64, 72]\n",
      "plt.scatter(distance_halfsteps, articulations_min)"
     ],
     "language": "python",
     "metadata": {},
     "outputs": [
      {
       "metadata": {},
       "output_type": "pyout",
       "prompt_number": 4,
       "text": [
        "<matplotlib.collections.PathCollection at 0x108c0a490>"
       ]
      },
      {
       "metadata": {},
       "output_type": "display_data",
       "png": "[encoded data removed]",
       "text": [
        "<matplotlib.figure.Figure at 0x104aefc10>"
       ]
      }
     ],
     "prompt_number": 4
    },
    {
     "cell_type": "code",
     "collapsed": false,
     "input": [
      "f = lambda x : np.log(x+1)*14.7\n",
      "x = np.linspace(0,67, 67*4)\n",
      "y = map(f,x)"
     ],
     "language": "python",
     "metadata": {},
     "outputs": [],
     "prompt_number": 29
    },
    {
     "cell_type": "code",
     "collapsed": false,
     "input": [
      "plt.xlim(0, 67)\n",
      "plt.ylim(0,70)\n",
      "plt.xlabel('Intervalic distance in half-steps', fontsize=18)\n",
      "plt.ylabel('Note count', fontsize=18)\n",
      "#font settings\n",
      "font = {'weight' : 'normal', \n",
      "        'size'   : 14}\n",
      "\n",
      "plt.rc('font', **font)\n",
      "plt.plot(x,y)"
     ],
     "language": "python",
     "metadata": {},
     "outputs": [
      {
       "metadata": {},
       "output_type": "pyout",
       "prompt_number": 40,
       "text": [
        "[<matplotlib.lines.Line2D at 0x10ae6ce90>]"
       ]
      },
      {
       "metadata": {},
       "output_type": "display_data",
       "png": "[encoded data removed]",
       "text": [
        "<matplotlib.figure.Figure at 0x10ae80790>"
       ]
      }
     ],
     "prompt_number": 40
    },
    {
     "cell_type": "code",
     "collapsed": false,
     "input": [
      "f(1)"
     ],
     "language": "python",
     "metadata": {},
     "outputs": [
      {
       "metadata": {},
       "output_type": "pyout",
       "prompt_number": 28,
       "text": [
        "10.189263554231195"
       ]
      }
     ],
     "prompt_number": 28
    },
    {
     "cell_type": "code",
     "collapsed": false,
     "input": [
      "f(0.25), f(0.5), f(1), f(2) "
     ],
     "language": "python",
     "metadata": {},
     "outputs": [
      {
       "metadata": {},
       "output_type": "pyout",
       "prompt_number": 7,
       "text": [
        "(3.2802102043188834,\n",
        " 5.9603370891900163,\n",
        " 10.189263554231195,\n",
        " 16.149600643421213)"
       ]
      }
     ],
     "prompt_number": 7
    }
   ],
   "metadata": {}
  }
 ]
}