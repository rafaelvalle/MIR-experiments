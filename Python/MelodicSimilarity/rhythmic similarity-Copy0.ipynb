{
 "metadata": {
  "name": "",
  "signature": "sha256:9f5820bf0ce94f55ef7267d4d22249c28b3b5f3fa225ce1acee03f6369fda6a6"
 },
 "nbformat": 3,
 "nbformat_minor": 0,
 "worksheets": [
  {
   "cells": [
    {
     "cell_type": "code",
     "collapsed": false,
     "input": [
      "import random\n",
      "import numpy as np\n",
      "import matplotlib.pylab as plt\n",
      "import music21\n",
      "from fractions import Fraction\n",
      "from IPython.display import Image\n",
      "import melodic_similarity, music_tools\n",
      "from melodic_similarity import *\n",
      "from music_tools import *\n",
      "%matplotlib inline\n",
      "\n",
      "#method for showing a tune\n",
      "def show_tune(tune):\n",
      "    return Image(filename=music21.converter.parse('tinynotation: 4/4 ' + tune).write('lily.png'))\n",
      "\n",
      "#method for rotating a regular python list\n",
      "def rotate(array_object, idx):\n",
      "    return array_object[idx:] + array_object[:idx]"
     ],
     "language": "python",
     "metadata": {},
     "outputs": [],
     "prompt_number": 2
    },
    {
     "cell_type": "heading",
     "level": 4,
     "metadata": {},
     "source": [
      "Let's declare two simple rhythmic cells and display them with music notation"
     ]
    },
    {
     "cell_type": "code",
     "collapsed": false,
     "input": [
      "rhythm_A_numerical = np.array([Fraction(1), Fraction(1,2), Fraction(1,2)])\n",
      "rhythm_B_numerical = np.array([Fraction(1), Fraction(1,3), Fraction(1,3), Fraction(1,3)])\n",
      "rhythm_A_21 = ['g4', 'g8', 'g8']\n",
      "rhythm_B_21 = ['g4', 'trip{g8 g8 g8}']\n",
      "rhythm_A = ' '.join(rhythm_A_21)\n",
      "rhythm_B = ' '.join(rhythm_B_21)"
     ],
     "language": "python",
     "metadata": {},
     "outputs": [],
     "prompt_number": 2
    },
    {
     "cell_type": "code",
     "collapsed": false,
     "input": [
      "show_tune(rhythm_A)"
     ],
     "language": "python",
     "metadata": {},
     "outputs": [
      {
       "metadata": {},
       "output_type": "pyout",
       "png": "[encoded data removed]",
       "prompt_number": 3,
       "text": [
        "<IPython.core.display.Image at 0x10453c390>"
       ]
      }
     ],
     "prompt_number": 3
    },
    {
     "cell_type": "code",
     "collapsed": false,
     "input": [
      "show_tune(rhythm_B)"
     ],
     "language": "python",
     "metadata": {},
     "outputs": [
      {
       "metadata": {},
       "output_type": "pyout",
       "png": "[encoded data removed]",
       "prompt_number": 4,
       "text": [
        "<IPython.core.display.Image at 0x10451cc10>"
       ]
      }
     ],
     "prompt_number": 4
    },
    {
     "cell_type": "heading",
     "level": 4,
     "metadata": {},
     "source": [
      "Let's repeat A and compare it A with all rotations of A.<br>\n",
      "First we repeat A:"
     ]
    },
    {
     "cell_type": "code",
     "collapsed": false,
     "input": [
      "show_tune(rhythm_A + ' ' + rhythm_A)"
     ],
     "language": "python",
     "metadata": {},
     "outputs": [
      {
       "metadata": {},
       "output_type": "pyout",
       "png": "[encoded data removed]",
       "prompt_number": 5,
       "text": [
        "<IPython.core.display.Image at 0x104542ed0>"
       ]
      }
     ],
     "prompt_number": 5
    },
    {
     "cell_type": "heading",
     "level": 4,
     "metadata": {},
     "source": [
      "Here are the first and second rotation of the extended A rhythm:"
     ]
    },
    {
     "cell_type": "code",
     "collapsed": false,
     "input": [
      "show_tune(' '.join(rotate(rhythm_A_21 + rhythm_A_21,1)))"
     ],
     "language": "python",
     "metadata": {},
     "outputs": [
      {
       "metadata": {},
       "output_type": "pyout",
       "png": "[encoded data removed]",
       "prompt_number": 6,
       "text": [
        "<IPython.core.display.Image at 0x10454c910>"
       ]
      }
     ],
     "prompt_number": 6
    },
    {
     "cell_type": "code",
     "collapsed": false,
     "input": [
      "show_tune(' '.join(rotate(rhythm_A_21 + rhythm_A_21,2)))"
     ],
     "language": "python",
     "metadata": {},
     "outputs": [
      {
       "metadata": {},
       "output_type": "pyout",
       "png": "[encoded data removed]",
       "prompt_number": 7,
       "text": [
        "<IPython.core.display.Image at 0x10454c450>"
       ]
      }
     ],
     "prompt_number": 7
    },
    {
     "cell_type": "heading",
     "level": 4,
     "metadata": {},
     "source": [
      "Let's compute the perceptual distances of the extended A from all possible rotations until it reaches the original rhythm"
     ]
    },
    {
     "cell_type": "code",
     "collapsed": false,
     "input": [
      "A = np.append(rhythm_A_numerical, rhythm_A_numerical).astype(float)"
     ],
     "language": "python",
     "metadata": {},
     "outputs": [],
     "prompt_number": 19
    },
    {
     "cell_type": "code",
     "collapsed": false,
     "input": [
      "distances = []\n",
      "for rotation in xrange(len(A) + 1):\n",
      "    distance, _ = DTW(100*A, np.roll(100*A, rotation))\n",
      "    distances.append(distance+1.E-8)\n",
      "\n",
      "    #font settings\n",
      "font = {'weight' : 'normal', \n",
      "        'size'   : 14}\n",
      "plt.rc('font', **font)\n",
      "fig = plt.figure(figsize=(6,4), dpi=500)\n",
      "\n",
      "plt.xlabel(\"Rotation\")\n",
      "plt.ylabel(\"Distance\")\n",
      "plt.bar(xrange(len(A) + 1), distances, color='orange')"
     ],
     "language": "python",
     "metadata": {},
     "outputs": [
      {
       "metadata": {},
       "output_type": "pyout",
       "prompt_number": 24,
       "text": [
        "<Container object of 7 artists>"
       ]
      },
      {
       "metadata": {},
       "output_type": "display_data",
       "png": "[encoded data removed]",
       "text": [
        "<matplotlib.figure.Figure at 0x108c62f50>"
       ]
      }
     ],
     "prompt_number": 24
    },
    {
     "cell_type": "heading",
     "level": 4,
     "metadata": {},
     "source": [
      "Now let's do the same with B: compute the perceptual distances of the repeat B rhythm from all possible rotations until it reaches the original rhythm"
     ]
    },
    {
     "cell_type": "code",
     "collapsed": false,
     "input": [
      "B = np.append(rhythm_B_numerical, rhythm_B_numerical).astype(float)"
     ],
     "language": "python",
     "metadata": {},
     "outputs": [],
     "prompt_number": 10
    },
    {
     "cell_type": "code",
     "collapsed": false,
     "input": [
      "distances = []\n",
      "for rotation in xrange(len(B) + 1):\n",
      "    distance, _ = DTW(100*B, np.roll(100*B, rotation))\n",
      "    distances.append(distance+1.E-8)\n",
      "plt.xlabel(\"Rotation\")\n",
      "plt.ylabel(\"Distance\")\n",
      "plt.bar(xrange(len(B)+1), distances, color='orange')"
     ],
     "language": "python",
     "metadata": {},
     "outputs": [
      {
       "metadata": {},
       "output_type": "pyout",
       "prompt_number": 11,
       "text": [
        "<Container object of 9 artists>"
       ]
      },
      {
       "metadata": {},
       "output_type": "display_data",
       "png": "[encoded data removed]",
       "text": [
        "<matplotlib.figure.Figure at 0x10b16d710>"
       ]
      }
     ],
     "prompt_number": 11
    },
    {
     "cell_type": "heading",
     "level": 4,
     "metadata": {},
     "source": [
      "As expected, the second and third rotations have the same distance, since they have the same durations and the same number of aligned and unaligned onsets with the original A."
     ]
    },
    {
     "cell_type": "heading",
     "level": 3,
     "metadata": {},
     "source": [
      "Comparison of Piano Works"
     ]
    },
    {
     "cell_type": "heading",
     "level": 4,
     "metadata": {},
     "source": [
      "Prokofiev's First Piano Sonata<br>\n",
      "Berg's Piano Sonata<br>\n",
      "Schoenberg Klavierstuecke Op.11, N. 1<br>\n",
      "Bach's Well Tempered Clavier, C minor fugue, first book<br>"
     ]
    },
    {
     "cell_type": "code",
     "collapsed": false,
     "input": [
      "prokofiev_xml = converter.parse('prokofiev_piano_sonata_1.xml')\n",
      "berg_xml = converter.parse('berg_piano_sonata.xml')\n",
      "schoenberg_xml = converter.parse('schoenberg_klavierstueck_11.xml')\n",
      "prokofiev = np.array([Fraction(3,2), Fraction(1), Fraction(1,2), Fraction(3,2), Fraction(1), Fraction(1,2), Fraction(3,2), Fraction(1), Fraction(1,2), Fraction(3,2), Fraction(3,2), Fraction(3,2)])\n",
      "berg = np.array([Fraction(3,4), Fraction(1,4), Fraction(3,2), Fraction(1,2), Fraction(1,2), Fraction(1,2), Fraction(1,2), Fraction(1,2), Fraction(3,2), Fraction(1,2), Fraction(1)])\n",
      "schoenberg = np.array([Fraction(1), Fraction(1), Fraction(3,2), Fraction(1,2), Fraction(1), Fraction(2), Fraction(1)])\n",
      "bach = np.array([Fraction(1,4), Fraction(1,4), Fraction(1,2), Fraction(1,2),  Fraction(1,2), Fraction(1,4), Fraction(1,4), Fraction(1,2), Fraction(1,2),  Fraction(1,4), Fraction(1,4),Fraction(1), Fraction(1,4),Fraction(1,4),Fraction(1,4)]) "
     ],
     "language": "python",
     "metadata": {},
     "outputs": [],
     "prompt_number": 12
    },
    {
     "cell_type": "code",
     "collapsed": false,
     "input": [
      "Image(prokofiev_xml.write('lily.png'))"
     ],
     "language": "python",
     "metadata": {},
     "outputs": [
      {
       "metadata": {},
       "output_type": "pyout",
       "png": "[encoded data removed]",
       "prompt_number": 13,
       "text": [
        "<IPython.core.display.Image at 0x10b079690>"
       ]
      }
     ],
     "prompt_number": 13
    },
    {
     "cell_type": "code",
     "collapsed": false,
     "input": [
      "Image(berg_xml.write('lily.png'))"
     ],
     "language": "python",
     "metadata": {},
     "outputs": [
      {
       "metadata": {},
       "output_type": "pyout",
       "png": "[encoded data removed]",
       "prompt_number": 14,
       "text": [
        "<IPython.core.display.Image at 0x10b2e6a90>"
       ]
      }
     ],
     "prompt_number": 14
    },
    {
     "cell_type": "code",
     "collapsed": false,
     "input": [
      "Image(schoenberg_xml.write('lily.png'))"
     ],
     "language": "python",
     "metadata": {},
     "outputs": [
      {
       "metadata": {},
       "output_type": "pyout",
       "png": "[encoded data removed]",
       "prompt_number": 15,
       "text": [
        "<IPython.core.display.Image at 0x10b1d4150>"
       ]
      }
     ],
     "prompt_number": 15
    },
    {
     "cell_type": "code",
     "collapsed": false,
     "input": [
      "show_tune(\"r8 c'16 b16 c'8 g8 a-8 c'16 b16 c'8 d'8 g8 c'16 b16 c'8 d'8 f16 g16 a-4 g16 f16 e-16\")"
     ],
     "language": "python",
     "metadata": {},
     "outputs": [
      {
       "ename": "NameError",
       "evalue": "name 'show_tune' is not defined",
       "output_type": "pyerr",
       "traceback": [
        "\u001b[0;31m---------------------------------------------------------------------------\u001b[0m\n\u001b[0;31mNameError\u001b[0m                                 Traceback (most recent call last)",
        "\u001b[0;32m<ipython-input-1-4e7c3e6522c9>\u001b[0m in \u001b[0;36m<module>\u001b[0;34m()\u001b[0m\n\u001b[0;32m----> 1\u001b[0;31m \u001b[0mshow_tune\u001b[0m\u001b[0;34m(\u001b[0m\u001b[0;34m\"r8 c'16 b16 c'8 g8 a-8 c'16 b16 c'8 d'8 g8 c'16 b16 c'8 d'8 f16 g16 a-4 g16 f16 e-16\"\u001b[0m\u001b[0;34m)\u001b[0m\u001b[0;34m\u001b[0m\u001b[0m\n\u001b[0m",
        "\u001b[0;31mNameError\u001b[0m: name 'show_tune' is not defined"
       ]
      }
     ],
     "prompt_number": 1
    },
    {
     "cell_type": "heading",
     "level": 4,
     "metadata": {},
     "source": [
      "Let's compare how distant Schoenberg's rhythm is from itself, Prokofiev's Bach's and Berg's"
     ]
    },
    {
     "cell_type": "code",
     "collapsed": false,
     "input": [
      "distances = []\n",
      "rhythms = {}\n",
      "rhythms['bach'] = bach\n",
      "rhythms['prokofiev'] = prokofiev\n",
      "rhythms['berg'] = berg\n",
      "rhythms['schoenberg'] = schoenberg\n",
      "\n",
      "\n",
      "for name, rhythm in sorted(rhythms.items()):\n",
      "    distance, _ = DTW(rhythms['schoenberg'].astype(float), rhythm.astype(float))\n",
      "    distances.append(distance)\n",
      "\n",
      "#for plotting    \n",
      "length = len(rhythms.keys())\n",
      "indices = np.arange(length)\n",
      "width = 0.5\n",
      "plt.bar(indices, distances, width, color='orange')\n",
      "plt.ylabel(\"Distance from Prokofiev's melody\")\n",
      "plt.xticks(indices + width/2., sorted(rhythms.keys()))    "
     ],
     "language": "python",
     "metadata": {},
     "outputs": [
      {
       "ename": "NameError",
       "evalue": "name 'bach' is not defined",
       "output_type": "pyerr",
       "traceback": [
        "\u001b[0;31m---------------------------------------------------------------------------\u001b[0m\n\u001b[0;31mNameError\u001b[0m                                 Traceback (most recent call last)",
        "\u001b[0;32m<ipython-input-2-56a9ec1c5238>\u001b[0m in \u001b[0;36m<module>\u001b[0;34m()\u001b[0m\n\u001b[1;32m      1\u001b[0m \u001b[0mdistances\u001b[0m \u001b[0;34m=\u001b[0m \u001b[0;34m[\u001b[0m\u001b[0;34m]\u001b[0m\u001b[0;34m\u001b[0m\u001b[0m\n\u001b[1;32m      2\u001b[0m \u001b[0mrhythms\u001b[0m \u001b[0;34m=\u001b[0m \u001b[0;34m{\u001b[0m\u001b[0;34m}\u001b[0m\u001b[0;34m\u001b[0m\u001b[0m\n\u001b[0;32m----> 3\u001b[0;31m \u001b[0mrhythms\u001b[0m\u001b[0;34m[\u001b[0m\u001b[0;34m'bach'\u001b[0m\u001b[0;34m]\u001b[0m \u001b[0;34m=\u001b[0m \u001b[0mbach\u001b[0m\u001b[0;34m\u001b[0m\u001b[0m\n\u001b[0m\u001b[1;32m      4\u001b[0m \u001b[0mrhythms\u001b[0m\u001b[0;34m[\u001b[0m\u001b[0;34m'prokofiev'\u001b[0m\u001b[0;34m]\u001b[0m \u001b[0;34m=\u001b[0m \u001b[0mprokofiev\u001b[0m\u001b[0;34m\u001b[0m\u001b[0m\n\u001b[1;32m      5\u001b[0m \u001b[0mrhythms\u001b[0m\u001b[0;34m[\u001b[0m\u001b[0;34m'berg'\u001b[0m\u001b[0;34m]\u001b[0m \u001b[0;34m=\u001b[0m \u001b[0mberg\u001b[0m\u001b[0;34m\u001b[0m\u001b[0m\n",
        "\u001b[0;31mNameError\u001b[0m: name 'bach' is not defined"
       ]
      }
     ],
     "prompt_number": 2
    },
    {
     "cell_type": "heading",
     "level": 4,
     "metadata": {},
     "source": [
      "Now, a random rhythm compared to a static clock"
     ]
    },
    {
     "cell_type": "code",
     "collapsed": false,
     "input": [
      "random_rhythm = np.array([random.randint(0, 2000) for _ in xrange(20)])\n",
      "clock = np.array([500 for _ in xrange(13)])\n",
      "clock_1 = clock * 1.25\n",
      "clock_2 = clock * 1.5\n",
      "clock_3 = clock * 1.75\n",
      "clock_4 = clock * 2.0"
     ],
     "language": "python",
     "metadata": {},
     "outputs": [],
     "prompt_number": 70
    },
    {
     "cell_type": "code",
     "collapsed": false,
     "input": [
      "max_duration = float(max(np.median(random_rhythm), np.median(clock_4)))\n",
      "random_rhythm = ftom(100 * random_rhythm / max_duration)\n",
      "clock = ftom(100 * clock / max_duration)\n",
      "clock_1 = ftom(100 * clock_1 / max_duration)\n",
      "clock_2 = ftom(100 * clock_2 / max_duration)\n",
      "clock_3 = ftom(100 * clock_3 / max_duration)\n",
      "clock_4 = ftom(100 * clock_4 / max_duration)\n",
      "\n",
      "rhythms = {}\n",
      "rhythms['clock 1.0'] = clock\n",
      "rhythms['clock 1.25'] = clock_1\n",
      "rhythms['clock 1.5'] = clock_2\n",
      "rhythms['clock 1.75'] = clock_3\n",
      "rhythms['clock 2.0'] = clock_4\n",
      "rhythms['random'] = random_rhythm"
     ],
     "language": "python",
     "metadata": {},
     "outputs": [],
     "prompt_number": 71
    },
    {
     "cell_type": "code",
     "collapsed": false,
     "input": [
      "plt.scatter(np.cumsum(random_rhythm) - random_rhythm[0], np.repeat(5, len(random_rhythm)), color='gray')\n",
      "plt.scatter(np.cumsum(clock) - clock[0], np.repeat(0, len(clock)), color='yellow')\n",
      "plt.scatter(np.cumsum(clock_1) - clock_1[0], np.repeat(1, len(clock)), color='orange')\n",
      "plt.scatter(np.cumsum(clock_2) - clock_2[0], np.repeat(2, len(clock)), color='red')\n",
      "plt.scatter(np.cumsum(clock_3) - clock_3[0], np.repeat(3, len(clock)), color='purple')\n",
      "plt.scatter(np.cumsum(clock_4) - clock_4[0], np.repeat(4, len(clock)), color='blue')\n",
      "plt.xlim(0)\n",
      "plt.ylim(-0.1,6)\n",
      "plt.yticks([])\n",
      "\n",
      "#font settings\n",
      "font = {'weight' : 'normal', \n",
      "        'size'   : 14}\n",
      "\n",
      "plt.rc('font', **font)\n",
      "\n",
      "#for plotting   \n",
      "fig = plt.figure(figsize=(6,4), dpi=500)"
     ],
     "language": "python",
     "metadata": {},
     "outputs": [
      {
       "metadata": {},
       "output_type": "display_data",
       "png": "[encoded data removed]",
       "text": [
        "<matplotlib.figure.Figure at 0x1097dc9d0>"
       ]
      },
      {
       "metadata": {},
       "output_type": "display_data",
       "text": [
        "<matplotlib.figure.Figure at 0x1097bead0>"
       ]
      }
     ],
     "prompt_number": 73
    },
    {
     "cell_type": "code",
     "collapsed": false,
     "input": [
      "distances = {}\n",
      "for name, rhythm in rhythms.items():\n",
      "  distance, _ = DTW(rhythm, clock)\n",
      "  distances[name] = distance"
     ],
     "language": "python",
     "metadata": {},
     "outputs": [],
     "prompt_number": 74
    },
    {
     "cell_type": "code",
     "collapsed": false,
     "input": [
      "dists = sorted(distances.values())[1:6]"
     ],
     "language": "python",
     "metadata": {},
     "outputs": [],
     "prompt_number": 75
    },
    {
     "cell_type": "code",
     "collapsed": false,
     "input": [
      "distances"
     ],
     "language": "python",
     "metadata": {},
     "outputs": [
      {
       "metadata": {},
       "output_type": "pyout",
       "prompt_number": 76,
       "text": [
        "{'clock 1.0': 0.0,\n",
        " 'clock 1.25': 12.085915525931645,\n",
        " 'clock 1.5': 6.3619735082572504,\n",
        " 'clock 1.75': 10.51584689394944,\n",
        " 'clock 2.0': 3.003637862007412,\n",
        " 'random': 17.060732937963586}"
       ]
      }
     ],
     "prompt_number": 76
    },
    {
     "cell_type": "code",
     "collapsed": false,
     "input": [
      "#font settings\n",
      "font = {'weight' : 'normal', \n",
      "        'size'   : 14}\n",
      "\n",
      "plt.rc('font', **font)\n",
      "\n",
      "#for plotting   \n",
      "length = len(distances.keys())\n",
      "indices = np.arange(length-1)\n",
      "width = 0.5\n",
      "fig = plt.figure(figsize=(6,4), dpi=500)\n",
      "plt.bar(indices, [dists[2], dists[0], dists[1], dists[3], dists[4]], width, color='orange')\n",
      "plt.ylabel(\"Distance from clock rhythm\")\n",
      "plt.xticks((indices) +width/2., ['1.25', '1.5', '1.75', '2.0', 'Random'], rotation=90 )    "
     ],
     "language": "python",
     "metadata": {},
     "outputs": [
      {
       "ename": "NameError",
       "evalue": "name 'plt' is not defined",
       "output_type": "pyerr",
       "traceback": [
        "\u001b[0;31m---------------------------------------------------------------------------\u001b[0m\n\u001b[0;31mNameError\u001b[0m                                 Traceback (most recent call last)",
        "\u001b[0;32m<ipython-input-1-b38094b22c47>\u001b[0m in \u001b[0;36m<module>\u001b[0;34m()\u001b[0m\n\u001b[1;32m      3\u001b[0m         'size'   : 14}\n\u001b[1;32m      4\u001b[0m \u001b[0;34m\u001b[0m\u001b[0m\n\u001b[0;32m----> 5\u001b[0;31m \u001b[0mplt\u001b[0m\u001b[0;34m.\u001b[0m\u001b[0mrc\u001b[0m\u001b[0;34m(\u001b[0m\u001b[0;34m'font'\u001b[0m\u001b[0;34m,\u001b[0m \u001b[0;34m**\u001b[0m\u001b[0mfont\u001b[0m\u001b[0;34m)\u001b[0m\u001b[0;34m\u001b[0m\u001b[0m\n\u001b[0m\u001b[1;32m      6\u001b[0m \u001b[0;34m\u001b[0m\u001b[0m\n\u001b[1;32m      7\u001b[0m \u001b[0;31m#for plotting\u001b[0m\u001b[0;34m\u001b[0m\u001b[0;34m\u001b[0m\u001b[0m\n",
        "\u001b[0;31mNameError\u001b[0m: name 'plt' is not defined"
       ]
      }
     ],
     "prompt_number": 1
    },
    {
     "cell_type": "heading",
     "level": 2,
     "metadata": {},
     "source": [
      "Glissando Like Comparissons"
     ]
    },
    {
     "cell_type": "code",
     "collapsed": false,
     "input": [
      "articulations = 1\n",
      "multiples = [1,2,4,8,16,32,64,128, 256]\n",
      "rhythms = {}\n",
      "\n",
      "clock = np.array([1 for _ in xrange(articulations)])\n",
      "for multiple in multiples:\n",
      "    rhythms[multiple] = np.repeat(clock/float(multiple), multiple)\n",
      "    rhythms[multiple] = 1.0 / rhythms[multiple]"
     ],
     "language": "python",
     "metadata": {},
     "outputs": [],
     "prompt_number": 112
    },
    {
     "cell_type": "code",
     "collapsed": false,
     "input": [
      "rhythms"
     ],
     "language": "python",
     "metadata": {},
     "outputs": [
      {
       "metadata": {},
       "output_type": "pyout",
       "prompt_number": 113,
       "text": [
        "{1: array([ 1.]),\n",
        " 2: array([ 2.,  2.]),\n",
        " 4: array([ 4.,  4.,  4.,  4.]),\n",
        " 8: array([ 8.,  8.,  8.,  8.,  8.,  8.,  8.,  8.]),\n",
        " 16: array([ 16.,  16.,  16.,  16.,  16.,  16.,  16.,  16.,  16.,  16.,  16.,\n",
        "         16.,  16.,  16.,  16.,  16.]),\n",
        " 32: array([ 32.,  32.,  32.,  32.,  32.,  32.,  32.,  32.,  32.,  32.,  32.,\n",
        "         32.,  32.,  32.,  32.,  32.,  32.,  32.,  32.,  32.,  32.,  32.,\n",
        "         32.,  32.,  32.,  32.,  32.,  32.,  32.,  32.,  32.,  32.]),\n",
        " 64: array([ 64.,  64.,  64.,  64.,  64.,  64.,  64.,  64.,  64.,  64.,  64.,\n",
        "         64.,  64.,  64.,  64.,  64.,  64.,  64.,  64.,  64.,  64.,  64.,\n",
        "         64.,  64.,  64.,  64.,  64.,  64.,  64.,  64.,  64.,  64.,  64.,\n",
        "         64.,  64.,  64.,  64.,  64.,  64.,  64.,  64.,  64.,  64.,  64.,\n",
        "         64.,  64.,  64.,  64.,  64.,  64.,  64.,  64.,  64.,  64.,  64.,\n",
        "         64.,  64.,  64.,  64.,  64.,  64.,  64.,  64.,  64.]),\n",
        " 128: array([ 128.,  128.,  128.,  128.,  128.,  128.,  128.,  128.,  128.,\n",
        "         128.,  128.,  128.,  128.,  128.,  128.,  128.,  128.,  128.,\n",
        "         128.,  128.,  128.,  128.,  128.,  128.,  128.,  128.,  128.,\n",
        "         128.,  128.,  128.,  128.,  128.,  128.,  128.,  128.,  128.,\n",
        "         128.,  128.,  128.,  128.,  128.,  128.,  128.,  128.,  128.,\n",
        "         128.,  128.,  128.,  128.,  128.,  128.,  128.,  128.,  128.,\n",
        "         128.,  128.,  128.,  128.,  128.,  128.,  128.,  128.,  128.,\n",
        "         128.,  128.,  128.,  128.,  128.,  128.,  128.,  128.,  128.,\n",
        "         128.,  128.,  128.,  128.,  128.,  128.,  128.,  128.,  128.,\n",
        "         128.,  128.,  128.,  128.,  128.,  128.,  128.,  128.,  128.,\n",
        "         128.,  128.,  128.,  128.,  128.,  128.,  128.,  128.,  128.,\n",
        "         128.,  128.,  128.,  128.,  128.,  128.,  128.,  128.,  128.,\n",
        "         128.,  128.,  128.,  128.,  128.,  128.,  128.,  128.,  128.,\n",
        "         128.,  128.,  128.,  128.,  128.,  128.,  128.,  128.,  128.,\n",
        "         128.,  128.]),\n",
        " 256: array([ 256.,  256.,  256.,  256.,  256.,  256.,  256.,  256.,  256.,\n",
        "         256.,  256.,  256.,  256.,  256.,  256.,  256.,  256.,  256.,\n",
        "         256.,  256.,  256.,  256.,  256.,  256.,  256.,  256.,  256.,\n",
        "         256.,  256.,  256.,  256.,  256.,  256.,  256.,  256.,  256.,\n",
        "         256.,  256.,  256.,  256.,  256.,  256.,  256.,  256.,  256.,\n",
        "         256.,  256.,  256.,  256.,  256.,  256.,  256.,  256.,  256.,\n",
        "         256.,  256.,  256.,  256.,  256.,  256.,  256.,  256.,  256.,\n",
        "         256.,  256.,  256.,  256.,  256.,  256.,  256.,  256.,  256.,\n",
        "         256.,  256.,  256.,  256.,  256.,  256.,  256.,  256.,  256.,\n",
        "         256.,  256.,  256.,  256.,  256.,  256.,  256.,  256.,  256.,\n",
        "         256.,  256.,  256.,  256.,  256.,  256.,  256.,  256.,  256.,\n",
        "         256.,  256.,  256.,  256.,  256.,  256.,  256.,  256.,  256.,\n",
        "         256.,  256.,  256.,  256.,  256.,  256.,  256.,  256.,  256.,\n",
        "         256.,  256.,  256.,  256.,  256.,  256.,  256.,  256.,  256.,\n",
        "         256.,  256.,  256.,  256.,  256.,  256.,  256.,  256.,  256.,\n",
        "         256.,  256.,  256.,  256.,  256.,  256.,  256.,  256.,  256.,\n",
        "         256.,  256.,  256.,  256.,  256.,  256.,  256.,  256.,  256.,\n",
        "         256.,  256.,  256.,  256.,  256.,  256.,  256.,  256.,  256.,\n",
        "         256.,  256.,  256.,  256.,  256.,  256.,  256.,  256.,  256.,\n",
        "         256.,  256.,  256.,  256.,  256.,  256.,  256.,  256.,  256.,\n",
        "         256.,  256.,  256.,  256.,  256.,  256.,  256.,  256.,  256.,\n",
        "         256.,  256.,  256.,  256.,  256.,  256.,  256.,  256.,  256.,\n",
        "         256.,  256.,  256.,  256.,  256.,  256.,  256.,  256.,  256.,\n",
        "         256.,  256.,  256.,  256.,  256.,  256.,  256.,  256.,  256.,\n",
        "         256.,  256.,  256.,  256.,  256.,  256.,  256.,  256.,  256.,\n",
        "         256.,  256.,  256.,  256.,  256.,  256.,  256.,  256.,  256.,\n",
        "         256.,  256.,  256.,  256.,  256.,  256.,  256.,  256.,  256.,\n",
        "         256.,  256.,  256.,  256.,  256.,  256.,  256.,  256.,  256.,\n",
        "         256.,  256.,  256.,  256.])}"
       ]
      }
     ],
     "prompt_number": 113
    },
    {
     "cell_type": "code",
     "collapsed": false,
     "input": [
      "i = 1\n",
      "for height, rhythm in sorted(rhythms.items()):\n",
      "    this_color = plt.cm.RdYlBu(float(i)/len(rhythms))\n",
      "    plt.plot([0,1000], [i, i], color=this_color)\n",
      "    plt.scatter(1000 * (np.cumsum(1/rhythm) - 1/rhythm [0]), np.repeat(i, height), color=this_color)\n",
      "    i += 1\n",
      "\n",
      "plt.xlim(-100, 1100)\n",
      "plt.ylim(0,i)\n",
      "plt.yticks(xrange(1,len(multiples)+1))\n",
      "plt.ylabel(multiples, rotation=90)\n",
      "\n",
      "#font settings\n",
      "font = {'weight' : 'normal', \n",
      "        'size'   : 14}\n",
      "\n",
      "plt.rc('font', **font)\n",
      "\n",
      "#for plotting   \n",
      "fig = plt.figure(figsize=(6,4), dpi=500)"
     ],
     "language": "python",
     "metadata": {},
     "outputs": [
      {
       "metadata": {},
       "output_type": "display_data",
       "png": "[encoded data removed]",
       "text": [
        "<matplotlib.figure.Figure at 0x107d87e50>"
       ]
      },
      {
       "metadata": {},
       "output_type": "display_data",
       "text": [
        "<matplotlib.figure.Figure at 0x108004190>"
       ]
      }
     ],
     "prompt_number": 126
    },
    {
     "cell_type": "heading",
     "level": 4,
     "metadata": {},
     "source": [
      "Compute distances from quarter note (1000 ms)"
     ]
    },
    {
     "cell_type": "code",
     "collapsed": false,
     "input": [
      "similarities = {}\n",
      "for height, rhythm in sorted(rhythms.items()):\n",
      "    distance, _ = DTW(ftom(clock), ftom(rhythm))\n",
      "    similarity = 1 / (1 + distance)\n",
      "    similarities[height] = similarity"
     ],
     "language": "python",
     "metadata": {},
     "outputs": [],
     "prompt_number": 127
    },
    {
     "cell_type": "code",
     "collapsed": false,
     "input": [
      "similarities"
     ],
     "language": "python",
     "metadata": {},
     "outputs": [
      {
       "metadata": {},
       "output_type": "pyout",
       "prompt_number": 128,
       "text": [
        "{1: 1.0,\n",
        " 2: 0.68394861992637557,\n",
        " 4: 0.40570972604948463,\n",
        " 8: 0.2129115931307532,\n",
        " 16: 0.10434416856491692,\n",
        " 32: 0.049721307175112701,\n",
        " 64: 0.023522353862823805,\n",
        " 128: 0.011145433534795067,\n",
        " 256: 0.0053051380218026691}"
       ]
      }
     ],
     "prompt_number": 128
    }
   ],
   "metadata": {}
  }
 ]
}