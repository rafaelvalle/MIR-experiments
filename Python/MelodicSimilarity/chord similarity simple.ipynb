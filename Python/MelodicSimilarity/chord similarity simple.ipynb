{
 "metadata": {
  "name": "",
  "signature": "sha256:f1262080cd6d0cd97b67cf410b60e2c0bab05cc675951c9e0c473dd8f3830026"
 },
 "nbformat": 3,
 "nbformat_minor": 0,
 "worksheets": [
  {
   "cells": [
    {
     "cell_type": "heading",
     "level": 1,
     "metadata": {},
     "source": [
      "perceptual distance of two sets of notes"
     ]
    },
    {
     "cell_type": "heading",
     "level": 4,
     "metadata": {},
     "source": [
      "This shows results for an algorithm to compute the perceptual distance for pair of notes or chords<br>\n",
      "Browse to the end of the document, example 6, if you want to see the comparison of Tristan's chord with several other famous chords (murail, stockhausen...)"
     ]
    },
    {
     "cell_type": "code",
     "collapsed": false,
     "input": [
      "import numpy as np\n",
      "import matplotlib.pylab as plt\n",
      "import music21\n",
      "from IPython.display import Image\n",
      "import melodic_similarity\n",
      "from melodic_similarity import *\n",
      "from music_tools import *\n",
      "%matplotlib inline\n",
      "\n",
      "#method for showing a tune\n",
      "def show_tune(tune):\n",
      "    return Image(filename=music21.converter.parse('tinynotation: 4/4 ' + tune).write('lily.png'))"
     ],
     "language": "python",
     "metadata": {},
     "outputs": [],
     "prompt_number": 67
    },
    {
     "cell_type": "code",
     "collapsed": false,
     "input": [
      "#font settings\n",
      "font = {'weight' : 'normal', \n",
      "        'size'   : 14}\n",
      "\n",
      "plt.rc('font', **font)"
     ],
     "language": "python",
     "metadata": {},
     "outputs": [],
     "prompt_number": 68
    },
    {
     "cell_type": "heading",
     "level": 4,
     "metadata": {},
     "source": [
      "Pitch class notation is used to represent chords<br>\n",
      "C Major = [0,4,7]<br>\n",
      "C Major 1/4 tone = [0.5,4.5,7.5]<br>"
     ]
    },
    {
     "cell_type": "heading",
     "level": 4,
     "metadata": {},
     "source": [
      "Set intervalic distances for quarter tones within one octave"
     ]
    },
    {
     "cell_type": "code",
     "collapsed": false,
     "input": [
      "intervalic_distances = np.arange(0,12.25,0.25)"
     ],
     "language": "python",
     "metadata": {},
     "outputs": [],
     "prompt_number": 2
    },
    {
     "cell_type": "heading",
     "level": 2,
     "metadata": {},
     "source": [
      "1) Compare base major triad (0,4,7) and transpositions"
     ]
    },
    {
     "cell_type": "heading",
     "level": 4,
     "metadata": {},
     "source": [
      "within an octave with quarter tone resolution.<br> Plot is interpolated"
     ]
    },
    {
     "cell_type": "code",
     "collapsed": false,
     "input": [
      "distances = []\n",
      "major = np.array([0,4,7])\n",
      "for intervalic_distance in intervalic_distances:\n",
      "    distance, _ = DTW(major, major+intervalic_distance)\n",
      "    distances.append(distance)\n",
      "plt.xlabel(\"Transposition in semitones from basis chord\")\n",
      "plt.ylabel(\"Distance\")\n",
      "plt.scatter(intervalic_distances, distances)"
     ],
     "language": "python",
     "metadata": {},
     "outputs": [
      {
       "metadata": {},
       "output_type": "pyout",
       "prompt_number": 8,
       "text": [
        "<matplotlib.collections.PathCollection at 0x10819c290>"
       ]
      },
      {
       "metadata": {},
       "output_type": "display_data",
       "png": "[encoded data removed]",
       "text": [
        "<matplotlib.figure.Figure at 0x107a73f10>"
       ]
      }
     ],
     "prompt_number": 8
    },
    {
     "cell_type": "heading",
     "level": 2,
     "metadata": {},
     "source": [
      "2) Compare basis major triad (0,4,7) and minor triads (0,3,7) transpositions "
     ]
    },
    {
     "cell_type": "heading",
     "level": 4,
     "metadata": {},
     "source": [
      "within an octave with quarter tone resolution.<br> Plot is interpolated"
     ]
    },
    {
     "cell_type": "code",
     "collapsed": false,
     "input": [
      "distances = []\n",
      "major = np.array([0,4,7])\n",
      "minor = np.array([0,3,7])\n",
      "\n",
      "for intervalic_distance in intervalic_distances:\n",
      "    distance, _ = DTW(major, minor+intervalic_distance)\n",
      "    distances.append(distance)\n",
      "plt.xlabel(\"Transposition in semitones from basis chord\")\n",
      "plt.ylabel(\"Distance\")\n",
      "plt.plot(intervalic_distances, distances)"
     ],
     "language": "python",
     "metadata": {},
     "outputs": [
      {
       "metadata": {},
       "output_type": "pyout",
       "prompt_number": 4,
       "text": [
        "[<matplotlib.lines.Line2D at 0x107d2c990>]"
       ]
      },
      {
       "metadata": {},
       "output_type": "display_data",
       "png": "[encoded data removed]",
       "text": [
        "<matplotlib.figure.Figure at 0x107a5e050>"
       ]
      }
     ],
     "prompt_number": 4
    },
    {
     "cell_type": "heading",
     "level": 2,
     "metadata": {},
     "source": [
      "3) Compare basis major seventh (0,4,7,11) and minor triad (0,3,7) transpositions"
     ]
    },
    {
     "cell_type": "heading",
     "level": 4,
     "metadata": {},
     "source": [
      "within an octave with quarter tone resolution.<br> Plot is interpolated"
     ]
    },
    {
     "cell_type": "code",
     "collapsed": false,
     "input": [
      "distances = []\n",
      "maj7 = np.array([0,4,7,11])\n",
      "minor = np.array([0,3,7])\n",
      "for intervalic_distance in intervalic_distances:\n",
      "    distance, _ = DTW(maj7, minor+intervalic_distance)\n",
      "    distances.append(distance)\n",
      "plt.xlabel(\"Transposition in semitones from basis chord\")\n",
      "plt.ylabel(\"Distance\")\n",
      "plt.plot(intervalic_distances, distances)"
     ],
     "language": "python",
     "metadata": {},
     "outputs": [
      {
       "metadata": {},
       "output_type": "pyout",
       "prompt_number": 5,
       "text": [
        "[<matplotlib.lines.Line2D at 0x107e4bad0>]"
       ]
      },
      {
       "metadata": {},
       "output_type": "display_data",
       "png": "[encoded data removed]",
       "text": [
        "<matplotlib.figure.Figure at 0x107d4d710>"
       ]
      }
     ],
     "prompt_number": 5
    },
    {
     "cell_type": "heading",
     "level": 2,
     "metadata": {},
     "source": [
      "4) Compare major and major second inversion \u2013 starting with (0,5,9), transpositions "
     ]
    },
    {
     "cell_type": "heading",
     "level": 4,
     "metadata": {},
     "source": [
      "within an octave with quarter tone resolution.<br> Plot is interpolated"
     ]
    },
    {
     "cell_type": "code",
     "collapsed": false,
     "input": [
      "distances = []\n",
      "major = np.array([0,4,7])\n",
      "maj_2nd_inv = np.array([0,5,9])\n",
      "for intervalic_distance in intervalic_distances:\n",
      "    distance, _ = DTW(major, maj_2nd_inv+intervalic_distance)\n",
      "    distances.append(distance)\n",
      "plt.xlabel(\"Transposition in semitones from basis chord\")\n",
      "plt.ylabel(\"Distance\")\n",
      "plt.plot(intervalic_distances, distances)"
     ],
     "language": "python",
     "metadata": {},
     "outputs": [
      {
       "metadata": {},
       "output_type": "pyout",
       "prompt_number": 6,
       "text": [
        "[<matplotlib.lines.Line2D at 0x107f752d0>]"
       ]
      },
      {
       "metadata": {},
       "output_type": "display_data",
       "png": "[encoded data removed]",
       "text": [
        "<matplotlib.figure.Figure at 0x107e890d0>"
       ]
      }
     ],
     "prompt_number": 6
    },
    {
     "cell_type": "heading",
     "level": 2,
     "metadata": {},
     "source": [
      "5) Compare minor seventh and minor seventh first inversion \u2013\u00a0starting with (0,2,5,7,9),and transpositions"
     ]
    },
    {
     "cell_type": "heading",
     "level": 4,
     "metadata": {},
     "source": [
      "within an octave with quarter tone resolution.<br> Plot is interpolated"
     ]
    },
    {
     "cell_type": "code",
     "collapsed": false,
     "input": [
      "distances = []\n",
      "min7 = np.array([0,3,7,10])\n",
      "min_2nd_inv = np.array([0,2,5,9])\n",
      "for intervalic_distance in intervalic_distances:\n",
      "    distance, _ = DTW(min7, min_2nd_inv+intervalic_distance)\n",
      "    distances.append(distance)\n",
      "plt.xlabel(\"Transposition in semitones from basis chord\")\n",
      "plt.ylabel(\"Distance\")\n",
      "plt.plot(intervalic_distances, distances)"
     ],
     "language": "python",
     "metadata": {},
     "outputs": [
      {
       "metadata": {},
       "output_type": "pyout",
       "prompt_number": 7,
       "text": [
        "[<matplotlib.lines.Line2D at 0x10cfef310>]"
       ]
      },
      {
       "metadata": {},
       "output_type": "display_data",
       "png": "[encoded data removed]",
       "text": [
        "<matplotlib.figure.Figure at 0x10ce41890>"
       ]
      }
     ],
     "prompt_number": 7
    },
    {
     "cell_type": "heading",
     "level": 2,
     "metadata": {},
     "source": [
      "6) Compare Wagner's Tristan chord with these chords:<br>"
     ]
    },
    {
     "cell_type": "heading",
     "level": 4,
     "metadata": {},
     "source": [
      "Stockhausen's Klavierstuecke IX\n",
      "Schoenberg's Farben <br>\n",
      "Scriabin's Prometheus<br>\n",
      "Risset's bell sound example (#500)<br>\n",
      "Murrail's Desintegrations, section VII chord 1 (notice the quarter tones)<br>\n",
      "Ives' fundamental major "
     ]
    },
    {
     "cell_type": "code",
     "collapsed": false,
     "input": [
      "chords = {}\n",
      "chords_intervals = {}\n",
      "chords_intervals_root = {}\n",
      "chords['Ives'] = np.array([60, 63.5, 67, 70.5])\n",
      "chords['Stockhausen'] = np.array([49,54,55,60])\n",
      "chords['Tristan'] = np.array([53,59,63,68])\n",
      "chords['Major'] = np.array([60,64,67,72])"
     ],
     "language": "python",
     "metadata": {},
     "outputs": [],
     "prompt_number": 32
    },
    {
     "cell_type": "code",
     "collapsed": false,
     "input": [
      "for name, chord in chords.items():\n",
      "    chords_intervals_root[name] = abs(chord[0] - chord[1:])"
     ],
     "language": "python",
     "metadata": {},
     "outputs": [],
     "prompt_number": 33
    },
    {
     "cell_type": "code",
     "collapsed": false,
     "input": [
      "for name, chord in chords.items():\n",
      "    chords_intervals[name] = abs(np.diff(chord))"
     ],
     "language": "python",
     "metadata": {},
     "outputs": [],
     "prompt_number": 35
    },
    {
     "cell_type": "code",
     "collapsed": false,
     "input": [
      "ives_notes = map(music21.note.Note, chords['Ives'])\n",
      "stoc_notes = map(music21.note.Note, chords['Stockhausen'])\n",
      "tris_notes = map(music21.note.Note, chords['Tristan'])\n",
      "majr_notes = map(music21.note.Note, chords['Major'])\n",
      "m21_ives = music21.chord.Chord(ives_notes)\n",
      "m21_stoc = music21.chord.Chord(stoc_notes)\n",
      "m21_tris = music21.chord.Chord(tris_notes)\n",
      "m21_majr = music21.chord.Chord(majr_notes)"
     ],
     "language": "python",
     "metadata": {},
     "outputs": [],
     "prompt_number": 36
    },
    {
     "cell_type": "code",
     "collapsed": false,
     "input": [
      "Image(filename=m21_ives.write('lily.png')) "
     ],
     "language": "python",
     "metadata": {},
     "outputs": [
      {
       "metadata": {},
       "output_type": "pyout",
       "png": "[encoded data removed]",
       "prompt_number": 37,
       "text": [
        "<IPython.core.display.Image at 0x10451ce90>"
       ]
      }
     ],
     "prompt_number": 37
    },
    {
     "cell_type": "code",
     "collapsed": false,
     "input": [
      "Image(filename=m21_stoc.write('lily.png')) "
     ],
     "language": "python",
     "metadata": {},
     "outputs": [
      {
       "metadata": {},
       "output_type": "pyout",
       "png": "[encoded data removed]",
       "prompt_number": 38,
       "text": [
        "<IPython.core.display.Image at 0x10454cc90>"
       ]
      }
     ],
     "prompt_number": 38
    },
    {
     "cell_type": "code",
     "collapsed": false,
     "input": [
      "Image(filename=m21_tris.write('lily.png')) "
     ],
     "language": "python",
     "metadata": {},
     "outputs": [
      {
       "metadata": {},
       "output_type": "pyout",
       "png": "[encoded data removed]",
       "prompt_number": 39,
       "text": [
        "<IPython.core.display.Image at 0x10451c890>"
       ]
      }
     ],
     "prompt_number": 39
    },
    {
     "cell_type": "code",
     "collapsed": false,
     "input": [
      "Image(filename=m21_majr.write('lily.png')) "
     ],
     "language": "python",
     "metadata": {},
     "outputs": [
      {
       "metadata": {},
       "output_type": "pyout",
       "png": "[encoded data removed]",
       "prompt_number": 45,
       "text": [
        "<IPython.core.display.Image at 0x1072b1a10>"
       ]
      }
     ],
     "prompt_number": 45
    },
    {
     "cell_type": "code",
     "collapsed": false,
     "input": [
      "distances = []\n",
      "for name, chord in sorted(chords.items()):\n",
      "    distance, _ = DTW(chords['Major'], chord)\n",
      "    distance = 1/(1 + distance)\n",
      "    distances.append(distance)"
     ],
     "language": "python",
     "metadata": {},
     "outputs": [],
     "prompt_number": 51
    },
    {
     "cell_type": "code",
     "collapsed": false,
     "input": [
      "chords, distances"
     ],
     "language": "python",
     "metadata": {},
     "outputs": [
      {
       "metadata": {},
       "output_type": "pyout",
       "prompt_number": 52,
       "text": [
        "({'Ives': array([ 60. ,  63.5,  67. ,  70.5]),\n",
        "  'Major': array([60, 64, 67, 72]),\n",
        "  'Stockhausen': array([49, 54, 55, 60]),\n",
        "  'Tristan': array([53, 59, 63, 68])},\n",
        " [0.39485197533468602, 1.0, 0.35840706467077749, 0.27736608610468405])"
       ]
      }
     ],
     "prompt_number": 52
    },
    {
     "cell_type": "code",
     "collapsed": false,
     "input": [
      "distances_interval = []\n",
      "for name, chord in sorted(chords_intervals.items()):\n",
      "    distance, _ = DTW(chords_intervals['Major'], chord)\n",
      "    distance = 1/(1 + distance)\n",
      "    distances_interval.append(distance)"
     ],
     "language": "python",
     "metadata": {},
     "outputs": [],
     "prompt_number": 53
    },
    {
     "cell_type": "code",
     "collapsed": false,
     "input": [
      "chords_intervals, distances_interval"
     ],
     "language": "python",
     "metadata": {},
     "outputs": [
      {
       "metadata": {},
       "output_type": "pyout",
       "prompt_number": 54,
       "text": [
        "({'Ives': array([ 3.5,  3.5,  3.5]),\n",
        "  'Major': array([4, 3, 5]),\n",
        "  'Stockhausen': array([5, 1, 5]),\n",
        "  'Tristan': array([6, 4, 5])},\n",
        " [0.34278674477836252, 1.0, 0.30858961964379134, 0.30858961964379134])"
       ]
      }
     ],
     "prompt_number": 54
    },
    {
     "cell_type": "code",
     "collapsed": false,
     "input": [
      "distances_interval_root = []\n",
      "for name, chord in sorted(chords_intervals_root.items()):\n",
      "    distance, _ = DTW(chords_intervals_root['Major'], chord)\n",
      "    distance = 1/(1 + distance)\n",
      "    distances_interval_root.append(distance)"
     ],
     "language": "python",
     "metadata": {},
     "outputs": [],
     "prompt_number": 55
    },
    {
     "cell_type": "code",
     "collapsed": false,
     "input": [
      "chords_intervals_root, distances_interval_root"
     ],
     "language": "python",
     "metadata": {},
     "outputs": [
      {
       "metadata": {},
       "output_type": "pyout",
       "prompt_number": 87,
       "text": [
        "({'Ives': array([  3.5,   7. ,  10.5]),\n",
        "  'Major': array([ 4,  7, 12]),\n",
        "  'Stockhausen': array([ 5,  6, 11]),\n",
        "  'Tristan': array([ 6, 10, 15])},\n",
        " [0.39485197533468602, 1.0, 0.25622944522555707, 0.24060539654313945])"
       ]
      }
     ],
     "prompt_number": 87
    },
    {
     "cell_type": "code",
     "collapsed": false,
     "input": [
      "distances_average = np.array(distances) + np.array(distances_interval) + np.array(distances_interval_root)\n",
      "distances_average /= 3"
     ],
     "language": "python",
     "metadata": {},
     "outputs": [],
     "prompt_number": 94
    },
    {
     "cell_type": "code",
     "collapsed": false,
     "input": [
      "#for plotting   \n",
      "length = len(chords.keys())\n",
      "indices = np.arange(length)\n",
      "width = 0.2\n",
      "plt.bar(indices+0.4, [distances[1],distances[0],distances[2],distances[3]], width, color=plt.cm.RdYlBu(3.0/4.0), label='Absolute')\n",
      "plt.bar(indices, [distances_interval[1],distances_interval[0],distances_interval[2],distances_interval[3]], width, color=plt.cm.RdYlBu(2.0/4.0),label='Interval')\n",
      "plt.bar(indices+0.2, [distances_interval_root[1],distances_interval_root[0],distances_interval_root[2],distances_interval_root[3]], width, color=plt.cm.RdYlBu(1.0/4.0),label='Interval from Root')\n",
      "plt.bar(indices+0.6, [distances_average[1],distances_average[0],distances_average[2],distances_average[3]], width, color=plt.cm.RdYlBu(4.0/4.0), label='Average')\n",
      "\n",
      "plt.legend(prop={'size':14})\n",
      "\n",
      "plt.ylabel(\"Similarity\")\n",
      "plt.xticks(indices + 4*width/2., ['C Major', 'Ives', 'Stockhausen', 'Murail'])\n",
      "plt.yticks(np.arange(1,6)*0.2)"
     ],
     "language": "python",
     "metadata": {},
     "outputs": [
      {
       "metadata": {},
       "output_type": "pyout",
       "prompt_number": 105,
       "text": [
        "([<matplotlib.axis.YTick at 0x10b93f810>,\n",
        "  <matplotlib.axis.YTick at 0x10b901210>,\n",
        "  <matplotlib.axis.YTick at 0x10bac4e10>,\n",
        "  <matplotlib.axis.YTick at 0x10bacd410>,\n",
        "  <matplotlib.axis.YTick at 0x10bacdad0>],\n",
        " <a list of 5 Text yticklabel objects>)"
       ]
      },
      {
       "metadata": {},
       "output_type": "display_data",
       "png": "[encoded data removed]",
       "text": [
        "<matplotlib.figure.Figure at 0x10b0838d0>"
       ]
      }
     ],
     "prompt_number": 105
    }
   ],
   "metadata": {}
  }
 ]
}