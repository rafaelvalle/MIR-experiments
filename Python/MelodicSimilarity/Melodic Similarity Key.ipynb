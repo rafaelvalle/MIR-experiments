{
 "metadata": {
  "name": "",
  "signature": "sha256:d11265d09f939cdbc6b20b07845250e91d1dc49ffa35a0ebf802d03ad4f8c12f"
 },
 "nbformat": 3,
 "nbformat_minor": 0,
 "worksheets": [
  {
   "cells": [
    {
     "cell_type": "heading",
     "level": 1,
     "metadata": {},
     "source": [
      "Melodic Similarity Experiment"
     ]
    },
    {
     "cell_type": "raw",
     "metadata": {},
     "source": [
      "%%latex\n",
      "This notebook compares the melodic similarity of two slightly different melodic excerpts and their minor counterpart.\\\\\n",
      "The similarity is computed using three features :\\\\\n",
      "    Rhythm\\\\\n",
      "    Harmony\\\\\n",
      "    Pitch contour"
     ]
    },
    {
     "cell_type": "heading",
     "level": 4,
     "metadata": {},
     "source": [
      "Let's load the necessary Python libraries"
     ]
    },
    {
     "cell_type": "code",
     "collapsed": false,
     "input": [
      "import numpy as np\n",
      "import matplotlib.pylab as plt\n",
      "%matplotlib inline\n",
      "import music21\n",
      "music21.environment.set('musicxmlPath', '/Applications/MuseScore.app')\n",
      "%load_ext music21.ipython21.ipExtension\n",
      "from music21 import *\n",
      "from IPython.display import Image\n",
      "from melodicSimilarity import *\n",
      "from music_tools import *"
     ],
     "language": "python",
     "metadata": {},
     "outputs": [
      {
       "html": [
        "\n",
        "     <script src='http://web.mit.edu/music21/music21j/ext/require/require.js'></script>\n",
        "     <script>\n",
        "    require.config(\n",
        "       { baseUrl: \"http://web.mit.edu/music21/music21j/src/\",\n",
        "         paths: {'music21': 'http://web.mit.edu/music21/music21j/src/music21',}\n",
        "        });\n",
        "    require(['music21'], function () {\n",
        "          var n = new music21.note.Note(\"D#4\");\n",
        "          var s = new music21.stream.Stream();\n",
        "          s.append(n);\n",
        "          console.log('music21 loaded fine');\n",
        "    });\n",
        "    </script>\n",
        "    "
       ],
       "metadata": {},
       "output_type": "display_data",
       "text": [
        "<IPython.core.display.HTML at 0x106f722d0>"
       ]
      }
     ],
     "prompt_number": 1
    },
    {
     "cell_type": "code",
     "collapsed": false,
     "input": [
      "media = {}"
     ],
     "language": "python",
     "metadata": {},
     "outputs": [],
     "prompt_number": 2
    },
    {
     "cell_type": "code",
     "collapsed": false,
     "input": [
      "lick1 = \"6/8 c4 d8 e4 d8 e4. g. d4 e8 f4 e8 f4. r4.\"\n",
      "lick1_mus21 = tinyNotation.TinyNotationStream(lick1)\n",
      "media['lick1'] = ([x.midi for x in lick1_mus21.pitches], [x.duration.quarterLength for x in lick1_mus21.notes], lick1_mus21)\n",
      "Image(filename=lick1_mus21.write('lily.png')) "
     ],
     "language": "python",
     "metadata": {},
     "outputs": [
      {
       "metadata": {},
       "output_type": "pyout",
       "png": "[encoded data removed]",
       "prompt_number": 3,
       "text": [
        "<IPython.core.display.Image at 0x10445f490>"
       ]
      }
     ],
     "prompt_number": 3
    },
    {
     "cell_type": "code",
     "collapsed": false,
     "input": [
      "lick2 = \"6/8 c4 d8 e4 f8 e4. c. d4 e8 f4 e8 d4. r4.\"\n",
      "lick2_mus21 = tinyNotation.TinyNotationStream(lick2)\n",
      "media['lick2'] = ([x.midi for x in lick2_mus21.pitches], [x.duration.quarterLength for x in lick2_mus21.notes], lick2_mus21)\n",
      "Image(filename=lick2_mus21.write('lily.png')) "
     ],
     "language": "python",
     "metadata": {},
     "outputs": [
      {
       "metadata": {},
       "output_type": "pyout",
       "png": "[encoded data removed]",
       "prompt_number": 4,
       "text": [
        "<IPython.core.display.Image at 0x106fa5f90>"
       ]
      }
     ],
     "prompt_number": 4
    },
    {
     "cell_type": "code",
     "collapsed": false,
     "input": [
      "lick3 = \"6/8 c4 d8 e-4 f8 e-4. g. d4 e-8 f4 e-8 f4. r4.\"\n",
      "lick3_mus21 = tinyNotation.TinyNotationStream(lick3)\n",
      "media['lick1 minor'] = ([x.midi for x in lick3_mus21.pitches], [x.duration.quarterLength for x in lick3_mus21.notes], lick3_mus21)\n",
      "Image(filename=lick3_mus21.write('lily.png')) "
     ],
     "language": "python",
     "metadata": {},
     "outputs": [
      {
       "metadata": {},
       "output_type": "pyout",
       "png": "[encoded data removed]",
       "prompt_number": 5,
       "text": [
        "<IPython.core.display.Image at 0x106fa5d50>"
       ]
      }
     ],
     "prompt_number": 5
    },
    {
     "cell_type": "code",
     "collapsed": false,
     "input": [
      "lick4 = \"6/8 c4 d8 e-4 f8 e-4. c. d4 e-8 f4 e-8 d4. r4.\"\n",
      "lick4_mus21 = tinyNotation.TinyNotationStream(lick4)\n",
      "media['lick4 minor'] = ([x.midi for x in lick4_mus21.pitches], [x.duration.quarterLength for x in lick4_mus21.notes], lick4_mus21)\n",
      "Image(filename=lick4_mus21.write('lily.png')) "
     ],
     "language": "python",
     "metadata": {},
     "outputs": [
      {
       "metadata": {},
       "output_type": "pyout",
       "png": "[encoded data removed]",
       "prompt_number": 6,
       "text": [
        "<IPython.core.display.Image at 0x10713dad0>"
       ]
      }
     ],
     "prompt_number": 6
    },
    {
     "cell_type": "heading",
     "level": 4,
     "metadata": {},
     "source": [
      "Generate all possible pairs and compute their distances"
     ]
    },
    {
     "cell_type": "code",
     "collapsed": false,
     "input": [
      "indices = {}\n",
      "idx = 0\n",
      "for item in sorted(media.keys()):\n",
      "    indices[item] = idx\n",
      "    idx += 1\n",
      "sorted_labels = sorted(indices.keys())\n",
      "combinations = generate_combinations(media.keys(),(2,2))"
     ],
     "language": "python",
     "metadata": {},
     "outputs": [],
     "prompt_number": 7
    },
    {
     "cell_type": "code",
     "collapsed": false,
     "input": [
      "combinations"
     ],
     "language": "python",
     "metadata": {},
     "outputs": [
      {
       "metadata": {},
       "output_type": "pyout",
       "prompt_number": 8,
       "text": [
        "[['lick1', 'lick2'],\n",
        " ['lick1', 'lick1 minor'],\n",
        " ['lick1', 'lick4 minor'],\n",
        " ['lick2', 'lick1 minor'],\n",
        " ['lick2', 'lick4 minor'],\n",
        " ['lick1 minor', 'lick4 minor']]"
       ]
      }
     ],
     "prompt_number": 8
    },
    {
     "cell_type": "code",
     "collapsed": false,
     "input": [
      "distances = []\n",
      "for lick1, lick2 in combinations:\n",
      "    harmony_distance,_ = DTW(media[lick1][0], media[lick2][0])\n",
      "    rhythm_distance,_ = DTW(media[lick1][1], media[lick2][1])\n",
      "    lick1_np = np.array(media[lick1][0])\n",
      "    lick1_intervals = lick1_np[1:] - lick1_np[:-1]\n",
      "    lick2_np = np.array(media[lick2][0])\n",
      "    lick2_intervals = lick2_np[1:] - lick2_np[:-1]\n",
      "    contour_distance, _ = DTW(lick1_intervals, lick2_intervals, intervalicDistance)\n",
      "    distances.append(((harmony_distance , rhythm_distance, contour_distance), (lick1,lick2)))"
     ],
     "language": "python",
     "metadata": {},
     "outputs": [],
     "prompt_number": 9
    },
    {
     "cell_type": "code",
     "collapsed": false,
     "input": [
      "by_harmony = sorted(map(lambda distance: (distance[0][0], distance[1]), distances))\n",
      "by_harmony_matrix = np.zeros((len(indices),len(indices)))\n",
      "for distance, (lickA, lickB) in by_harmony:\n",
      "    row, col = (indices[lickA], indices[lickB])\n",
      "    by_harmony_matrix[row,col] = distance\n",
      "    by_harmony_matrix[col,row] = distance"
     ],
     "language": "python",
     "metadata": {},
     "outputs": [],
     "prompt_number": 10
    },
    {
     "cell_type": "code",
     "collapsed": false,
     "input": [
      "by_harmony = sorted(map(lambda distance: (distance[0][0], distance[1]), distances))\n",
      "by_harmony_matrix = np.zeros((len(indices),len(indices)))\n",
      "for distance, (lickA, lickB) in by_harmony:\n",
      "    row, col = (indices[lickA], indices[lickB])\n",
      "    by_harmony_matrix[row,col] = distance\n",
      "    by_harmony_matrix[col,row] = distance\n",
      "\n",
      "plt.imshow(by_harmony_matrix, interpolation='nearest', cmap=plt.cm.BuPu)\n",
      "plt.xticks(np.arange(0,len(sorted_labels)), sorted_labels, rotation='vertical')\n",
      "plt.yticks(np.arange(0,len(sorted_labels)), sorted_labels, rotation='horizontal')\n",
      "plt.title(\"Harmonic distance\")\n",
      "x = plt\n",
      "plt.colorbar()\n",
      "plt.show()  "
     ],
     "language": "python",
     "metadata": {},
     "outputs": [
      {
       "metadata": {},
       "output_type": "display_data",
       "png": "[encoded data removed]",
       "text": [
        "<matplotlib.figure.Figure at 0x10715ae50>"
       ]
      }
     ],
     "prompt_number": 11
    },
    {
     "cell_type": "code",
     "collapsed": false,
     "input": [
      "by_contour = sorted(map(lambda distance: (distance[0][2], distance[1]), distances))\n",
      "by_contour_matrix = np.zeros((len(indices),len(indices)))\n",
      "for distance, (lickA, lickB) in by_contour:\n",
      "    row, col = (indices[lickA], indices[lickB])\n",
      "    by_contour_matrix[row,col] = distance\n",
      "    by_contour_matrix[col,row] = distance\n",
      "\n",
      "plt.imshow(by_contour_matrix, interpolation='nearest', cmap=plt.cm.BuPu)\n",
      "plt.xticks(np.arange(0,len(sorted_labels)), sorted_labels, rotation='vertical')\n",
      "plt.yticks(np.arange(0,len(sorted_labels)), sorted_labels, rotation='horizontal')\n",
      "plt.title(\"Contour distance\")\n",
      "plt.colorbar()\n",
      "plt.show()  "
     ],
     "language": "python",
     "metadata": {},
     "outputs": [
      {
       "metadata": {},
       "output_type": "display_data",
       "png": "[encoded data removed]",
       "text": [
        "<matplotlib.figure.Figure at 0x1071e1950>"
       ]
      }
     ],
     "prompt_number": 12
    },
    {
     "cell_type": "code",
     "collapsed": false,
     "input": [
      "by_all = sorted(map(lambda distance: ((distance[0][0] + distance[0][1] + distance[0][2])/2, distance[1]), distances))\n",
      "by_all_matrix = np.zeros((len(indices),len(indices)))\n",
      "for distance, (lickA, lickB) in by_all:\n",
      "    row, col = indices[lickA], indices[lickB]\n",
      "    by_all_matrix[row,col] = distance\n",
      "    by_all_matrix[col,row] = distance\n",
      "\n",
      "plt.imshow(by_all_matrix, interpolation='nearest', cmap=plt.cm.YlGn)\n",
      "plt.xticks(np.arange(0,len(sorted_labels)), sorted_labels, rotation='vertical')\n",
      "plt.yticks(np.arange(0,len(sorted_labels)), sorted_labels, rotation='horizontal')\n",
      "plt.title(\"Average distance\")\n",
      "plt.colorbar()\n",
      "plt.show()"
     ],
     "language": "python",
     "metadata": {},
     "outputs": [
      {
       "metadata": {},
       "output_type": "display_data",
       "png": "[encoded data removed]",
       "text": [
        "<matplotlib.figure.Figure at 0x10720c810>"
       ]
      }
     ],
     "prompt_number": 13
    },
    {
     "cell_type": "code",
     "collapsed": false,
     "input": [
      "distances"
     ],
     "language": "python",
     "metadata": {},
     "outputs": [
      {
       "metadata": {},
       "output_type": "pyout",
       "prompt_number": 14,
       "text": [
        "[((2.2117211466889262, 0.0, 0.53450357088059164), ('lick1', 'lick2')),\n",
        " ((4.8119446449052674, 0.0, 0.3423690635024052), ('lick1', 'lick1 minor')),\n",
        " ((6.0820572517357476, 0.0, 0.56876438248469252), ('lick1', 'lick4 minor')),\n",
        " ((5.140448711877303, 0.0, 0.67129409448823518), ('lick2', 'lick1 minor')),\n",
        " ((3.8703361050468224, 0.0, 0.25535768651277535), ('lick2', 'lick4 minor')),\n",
        " ((1.2701126068304811, 0.0, 0.55078445648472929),\n",
        "  ('lick1 minor', 'lick4 minor'))]"
       ]
      }
     ],
     "prompt_number": 14
    }
   ],
   "metadata": {}
  }
 ]
}