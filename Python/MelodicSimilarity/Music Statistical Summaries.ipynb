{
 "metadata": {
  "name": "",
  "signature": "sha256:9e705864fff2fa9df7b398bff7c0739098beeb12924fa5f389af89cfdd8ad13a"
 },
 "nbformat": 3,
 "nbformat_minor": 0,
 "worksheets": [
  {
   "cells": [
    {
     "cell_type": "heading",
     "level": 1,
     "metadata": {},
     "source": [
      "Music Statistical Summaries"
     ]
    },
    {
     "cell_type": "code",
     "collapsed": false,
     "input": [
      "import music21\n",
      "music21.environment.set('musicxmlPath', '/Applications/MuseScore.app')\n",
      "%load_ext music21.ipython21.ipExtension\n",
      "from music21 import *\n",
      "from IPython.display import Image\n",
      "from melodicSimilarity import *\n",
      "from music_tools import *\n",
      "from music_ga import *\n",
      "from statistics import *"
     ],
     "language": "python",
     "metadata": {},
     "outputs": [
      {
       "html": [
        "\n",
        "     <script src='http://web.mit.edu/music21/music21j/ext/require/require.js'></script>\n",
        "     <script>\n",
        "    require.config(\n",
        "       { baseUrl: \"http://web.mit.edu/music21/music21j/src/\",\n",
        "         paths: {'music21': 'http://web.mit.edu/music21/music21j/src/music21',}\n",
        "        });\n",
        "    require(['music21'], function () {\n",
        "          var n = new music21.note.Note(\"D#4\");\n",
        "          var s = new music21.stream.Stream();\n",
        "          s.append(n);\n",
        "          console.log('music21 loaded fine');\n",
        "    });\n",
        "    </script>\n",
        "    "
       ],
       "metadata": {},
       "output_type": "display_data",
       "text": [
        "<IPython.core.display.HTML at 0x105d88b90>"
       ]
      }
     ],
     "prompt_number": 1
    },
    {
     "cell_type": "heading",
     "level": 4,
     "metadata": {},
     "source": [
      "Load two licks from Girl of Ipanema"
     ]
    },
    {
     "cell_type": "code",
     "collapsed": false,
     "input": [
      "ipanema_lick1_mus21 = converter.parse('media/ipanema-lick1.xml')\n",
      "ipanema_lick3_mus21 = converter.parse('media/ipanema-lick3.xml')"
     ],
     "language": "python",
     "metadata": {},
     "outputs": [],
     "prompt_number": 2
    },
    {
     "cell_type": "code",
     "collapsed": false,
     "input": [
      "Image(filename=ipanema_lick1_mus21.write('lily.png')) "
     ],
     "language": "python",
     "metadata": {},
     "outputs": [
      {
       "metadata": {},
       "output_type": "pyout",
       "png": "[encoded data removed]",
       "prompt_number": 3,
       "text": [
        "<IPython.core.display.Image at 0x103f467d0>"
       ]
      }
     ],
     "prompt_number": 3
    },
    {
     "cell_type": "code",
     "collapsed": false,
     "input": [
      "Image(filename=ipanema_lick3_mus21.write('lily.png')) "
     ],
     "language": "python",
     "metadata": {},
     "outputs": [
      {
       "metadata": {},
       "output_type": "pyout",
       "png": "[encoded data removed]",
       "prompt_number": 4,
       "text": [
        "<IPython.core.display.Image at 0x1075bfb50>"
       ]
      }
     ],
     "prompt_number": 4
    },
    {
     "cell_type": "heading",
     "level": 4,
     "metadata": {},
     "source": [
      "Convert the music21 stream to dictionaries"
     ]
    },
    {
     "cell_type": "code",
     "collapsed": false,
     "input": [
      "parameters = ['midinote', 'duration']\n",
      "ipanema_lick1 = music21_to_dict(ipanema_lick1_mus21, parameters)\n",
      "ipanema_lick3 = music21_to_dict(ipanema_lick3_mus21, parameters)"
     ],
     "language": "python",
     "metadata": {},
     "outputs": [],
     "prompt_number": 5
    },
    {
     "cell_type": "heading",
     "level": 4,
     "metadata": {},
     "source": [
      "Let's computes the frequency of each note and rhythm."
     ]
    },
    {
     "cell_type": "code",
     "collapsed": false,
     "input": [
      "ipanema_lick1_frequency = computeFrequency(ipanema_lick1, parameters)\n",
      "ipanema_lick3_frequency = computeFrequency(ipanema_lick3, parameters)"
     ],
     "language": "python",
     "metadata": {},
     "outputs": [],
     "prompt_number": 6
    },
    {
     "cell_type": "heading",
     "level": 4,
     "metadata": {},
     "source": [
      "And randomly sample twice from each note frequentist distribution"
     ]
    },
    {
     "cell_type": "code",
     "collapsed": false,
     "input": [
      "n_samples = 2\n",
      "notes = ipanema_lick1_frequency['midinote'][:,0]\n",
      "frequencies = ipanema_lick1_frequency['midinote'][:,1]\n",
      "probabilities = (frequencies/frequencies.sum().astype(float)).tolist()\n",
      "sampled_notes = sampleFromDistribution(notes, n_samples, probabilities)"
     ],
     "language": "python",
     "metadata": {},
     "outputs": [],
     "prompt_number": 32
    },
    {
     "cell_type": "code",
     "collapsed": false,
     "input": [
      "sampled_notes"
     ],
     "language": "python",
     "metadata": {},
     "outputs": [
      {
       "metadata": {},
       "output_type": "pyout",
       "prompt_number": 33,
       "text": [
        "array([64, 60])"
       ]
      }
     ],
     "prompt_number": 33
    }
   ],
   "metadata": {}
  }
 ]
}