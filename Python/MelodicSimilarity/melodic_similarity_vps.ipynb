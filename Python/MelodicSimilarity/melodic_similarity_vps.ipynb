{
 "metadata": {
  "name": "",
  "signature": "sha256:f9d429aa5c00d1b112d21250ca2b4469e8f03e04c51153ead44bc13adbcb03cd"
 },
 "nbformat": 3,
 "nbformat_minor": 0,
 "worksheets": [
  {
   "cells": [
    {
     "cell_type": "heading",
     "level": 1,
     "metadata": {},
     "source": [
      "Polyphonic Similarity VPS Studies"
     ]
    },
    {
     "cell_type": "heading",
     "level": 4,
     "metadata": {},
     "source": [
      "This notebook compares the polyphonic music similarity of Contemporary Music inspired excerpts"
     ]
    },
    {
     "cell_type": "heading",
     "level": 4,
     "metadata": {},
     "source": [
      "Load the necessary Python libraries"
     ]
    },
    {
     "cell_type": "code",
     "collapsed": false,
     "input": [
      "import numpy as np\n",
      "import scipy as sp\n",
      "import matplotlib.pylab as plt\n",
      "%matplotlib inline\n",
      "import music21\n",
      "music21.environment.set('musicxmlPath', '/Applications/MuseScore.app')\n",
      "from music21 import *\n",
      "from IPython.display import Image\n",
      "from melodic_similarity import *\n",
      "from music_tools import *\n",
      "from scipy.spatial.distance import cosine"
     ],
     "language": "python",
     "metadata": {},
     "outputs": [],
     "prompt_number": 1
    },
    {
     "cell_type": "code",
     "collapsed": false,
     "input": [
      "#matplotlib configurations\n",
      "#font settings\n",
      "font = {'weight' : 'normal', \n",
      "        'size'   : 14}\n",
      "\n",
      "plt.rc('font', **font)"
     ],
     "language": "python",
     "metadata": {},
     "outputs": [],
     "prompt_number": 2
    },
    {
     "cell_type": "heading",
     "level": 2,
     "metadata": {},
     "source": [
      "Polyphonic Similarity (Chord Based)"
     ]
    },
    {
     "cell_type": "code",
     "collapsed": false,
     "input": [
      "n_items = 18\n",
      "factor = 1.3\n",
      "end_offset = 200\n",
      "piece1 = {} #holder for all voices\n",
      "piece2 = {}\n",
      "piece3 = {}\n",
      "values_1 = np.sin(np.pi * np.linspace(0, 4, n_items))\n",
      "values_2 = np.sin(np.pi * np.linspace(0, 4, n_items/2))\n",
      "values_3 = np.sin(np.pi * np.linspace(0, 4, n_items/4))\n",
      "values_1_factor = 1\n",
      "values_2_factor = 2\n",
      "values_3_factor = 4\n",
      "voice_1_amp = 3\n",
      "voice_2_amp = 2\n",
      "voice_3_amp = 1\n",
      "voice_1_offset = 40\n",
      "voice_2_offset = 54\n",
      "voice_3_offset = 68"
     ],
     "language": "python",
     "metadata": {},
     "outputs": [],
     "prompt_number": 3
    },
    {
     "cell_type": "code",
     "collapsed": false,
     "input": [
      "time_1 = np.arange(len(values_1)) * 100\n",
      "time_2 = np.arange(len(values_2)) * 100 * values_2_factor\n",
      "time_3 = np.arange(len(values_3)) * 100 * values_3_factor\n",
      "\n",
      "melody_1 = voice_1_amp*values_1+voice_1_offset\n",
      "melody_2 = voice_2_amp*values_2+voice_2_offset\n",
      "melody_3 = voice_3_amp*values_3+voice_3_offset\n",
      "\n",
      "time_1, melody_1"
     ],
     "language": "python",
     "metadata": {},
     "outputs": [
      {
       "metadata": {},
       "output_type": "pyout",
       "prompt_number": 4,
       "text": [
        "(array([   0,  100,  200,  300,  400,  500,  600,  700,  800,  900, 1000,\n",
        "        1100, 1200, 1300, 1400, 1500, 1600, 1700]),\n",
        " array([ 40.        ,  42.02108693,  42.98720253,  42.39405168,\n",
        "         40.55124855,  38.42070351,  37.11452307,  37.31451013,\n",
        "         38.916275  ,  41.083725  ,  42.68548987,  42.88547693,\n",
        "         41.57929649,  39.44875145,  37.60594832,  37.01279747,\n",
        "         37.97891307,  40.        ]))"
       ]
      }
     ],
     "prompt_number": 4
    },
    {
     "cell_type": "code",
     "collapsed": false,
     "input": [
      "from itertools import chain\n",
      "end = max(chain(time_1, time_1, time_3))\n",
      "\n",
      "time_1_full = np.append(time_1, end + end_offset)\n",
      "time_2_full = np.append(time_2, end + end_offset)\n",
      "time_3_full = np.append(time_3, end + end_offset)\n",
      "\n",
      "melody_1_full = np.append(melody_1, melody_1[-1])\n",
      "melody_2_full = np.append(melody_2, melody_1[-1])\n",
      "melody_3_full = np.append(melody_3, melody_3[-1])\n",
      "\n",
      "time_3_full, melody_3_full"
     ],
     "language": "python",
     "metadata": {},
     "outputs": [
      {
       "metadata": {},
       "output_type": "pyout",
       "prompt_number": 5,
       "text": [
        "(array([   0,  400,  800, 1200, 1900]),\n",
        " array([ 68.       ,  67.1339746,  68.8660254,  68.       ,  68.       ]))"
       ]
      }
     ],
     "prompt_number": 5
    },
    {
     "cell_type": "code",
     "collapsed": false,
     "input": [
      "piece1[1] = (melody_1_full, time_1_full)\n",
      "piece1[2] = (melody_2_full, time_2_full)\n",
      "piece1[3] = (melody_3_full, time_3_full)\n",
      "piece1_quantized = quantizeToShortest(piece1)\n",
      "piece1_quantized_interval = pieceAbs2pieceInt(piece1_quantized)"
     ],
     "language": "python",
     "metadata": {},
     "outputs": [],
     "prompt_number": 9
    },
    {
     "cell_type": "code",
     "collapsed": false,
     "input": [
      "plt.xticks([0,500,1000,1500])\n",
      "plt.ylim(30,73)\n",
      "color1 = plt.cm.Set1(0.1)\n",
      "color2 = plt.cm.Set1(0.5)\n",
      "color3 = plt.cm.Set1(0.9)\n",
      "plt.scatter(time_1, melody_1, color=color1)\n",
      "plt.scatter(time_2, melody_2, color=color2)\n",
      "plt.scatter(time_3, melody_3, color=color3)\n",
      "\n",
      "for idx in xrange(len(melody_1)-1):\n",
      "    plt.hlines(melody_1[idx], time_1[idx], time_1[idx+1], color=color1)\n",
      "plt.hlines(melody_1[-1], time_1[-1], 1800, color=color1)\n",
      "    \n",
      "for idx in xrange(len(melody_2)-1):\n",
      "    plt.hlines(melody_2[idx], time_2[idx], time_2[idx+1], color=color2)\n",
      "plt.hlines(melody_2[-1], time_2[-1], 1800, color=color2)\n",
      "\n",
      "for idx in xrange(len(melody_3)-1):\n",
      "    plt.hlines(melody_3[idx], time_3[idx], time_3[idx+1], color=color3)\n",
      "    \n",
      "plt.hlines(melody_3[-1], time_3[-1], 1800, color=color3)\n",
      "plt.xlabel('Time(ms)', fontsize=18)\n",
      "plt.ylabel('MIDI Note', fontsize=18)"
     ],
     "language": "python",
     "metadata": {},
     "outputs": [
      {
       "metadata": {},
       "output_type": "pyout",
       "prompt_number": 10,
       "text": [
        "<matplotlib.text.Text at 0x107a03310>"
       ]
      },
      {
       "metadata": {},
       "output_type": "display_data",
       "png": "[encoded data removed]",
       "text": [
        "<matplotlib.figure.Figure at 0x1079c9190>"
       ]
      }
     ],
     "prompt_number": 10
    },
    {
     "cell_type": "code",
     "collapsed": false,
     "input": [
      "plt.xticks([0,500,1000,1500])\n",
      "plt.xlim(-100, 1700)\n",
      "plt.ylim(30,73)\n",
      "\n",
      "n_items = 16\n",
      "values_1 = np.sin(np.pi * np.linspace(0, 4, n_items))\n",
      "values_2 = np.sin(np.pi * np.linspace(0, 4, n_items/2))\n",
      "values_3 = np.sin(np.pi * np.linspace(0, 4, n_items/4))\n",
      "\n",
      "time_1 = np.arange(len(values_1)) * 100\n",
      "time_2 = np.arange(len(values_2)) * 100 * values_2_factor\n",
      "time_3 = np.arange(len(values_3)) * 100 * values_3_factor\n",
      "\n",
      "melody_1 = factor*2*voice_1_amp*values_1+voice_1_offset\n",
      "melody_2 = factor*2*voice_2_amp*values_2+voice_2_offset\n",
      "melody_3 = factor*2*voice_3_amp*values_3+voice_3_offset\n",
      "\n",
      "plt.scatter(time_1, melody_1, color=color1)\n",
      "plt.scatter(time_2, melody_2, color=color2)\n",
      "plt.scatter(time_3, melody_3, color=color3)\n",
      "\n",
      "print time_3, melody_3\n",
      "\n",
      "for idx in xrange(len(melody_1)-1):\n",
      "    plt.hlines(melody_1[idx], time_1[idx], time_1[idx+1], color=color1)\n",
      "plt.hlines(melody_1[-1], time_1[-1], 1600, color=color1)\n",
      "    \n",
      "for idx in xrange(len(melody_2)-1):\n",
      "    plt.hlines(melody_2[idx], time_2[idx], time_2[idx+1], color=color2)\n",
      "plt.hlines(melody_2[-1], time_2[-1], 1600, color=color2)\n",
      "\n",
      "for idx in xrange(len(melody_3)-1):\n",
      "    plt.hlines(melody_3[idx], time_3[idx], time_3[idx+1], color=color3)\n",
      "plt.hlines(melody_3[-1], time_3[-1], 1600, color=color3)\n",
      "plt.xlabel('Time(ms)', fontsize=18)\n",
      "plt.ylabel('MIDI Note', fontsize=18)"
     ],
     "language": "python",
     "metadata": {},
     "outputs": [
      {
       "output_type": "stream",
       "stream": "stdout",
       "text": [
        "[   0  400  800 1200] [ 68.          65.74833395  70.25166605  68.        ]\n"
       ]
      },
      {
       "metadata": {},
       "output_type": "pyout",
       "prompt_number": 11,
       "text": [
        "<matplotlib.text.Text at 0x107c83550>"
       ]
      },
      {
       "metadata": {},
       "output_type": "display_data",
       "png": "[encoded data removed]",
       "text": [
        "<matplotlib.figure.Figure at 0x1079aa0d0>"
       ]
      }
     ],
     "prompt_number": 11
    },
    {
     "cell_type": "code",
     "collapsed": false,
     "input": [
      "from itertools import chain\n",
      "end = max(chain(time_1, time_1, time_3))\n",
      "\n",
      "time_1_full = np.append(time_1, end + end_offset)\n",
      "time_2_full = np.append(time_2, end + end_offset)\n",
      "time_3_full = np.append(time_3, end + end_offset)\n",
      "\n",
      "melody_1_full = np.append(melody_1, melody_1[-1])\n",
      "melody_2_full = np.append(melody_2, melody_1[-1])\n",
      "melody_3_full = np.append(melody_3, melody_3[-1])\n",
      "\n",
      "time_3_full, melody_3_full"
     ],
     "language": "python",
     "metadata": {},
     "outputs": [
      {
       "metadata": {},
       "output_type": "pyout",
       "prompt_number": 12,
       "text": [
        "(array([   0,  400,  800, 1200, 1700]),\n",
        " array([ 68.        ,  65.74833395,  70.25166605,  68.        ,  68.        ]))"
       ]
      }
     ],
     "prompt_number": 12
    },
    {
     "cell_type": "code",
     "collapsed": false,
     "input": [
      "piece2[1] = (melody_1_full, time_1_full)\n",
      "piece2[2] = (melody_2_full, time_2_full)\n",
      "piece2[3] = (melody_3_full, time_3_full)\n",
      "piece2_quantized = quantizeToShortest(piece2)\n",
      "piece2_quantized_interval = pieceAbs2pieceInt(piece2_quantized)"
     ],
     "language": "python",
     "metadata": {},
     "outputs": [],
     "prompt_number": 13
    },
    {
     "cell_type": "code",
     "collapsed": false,
     "input": [
      "n_items = 14\n",
      "plt.xticks([0,500,1000,1500])\n",
      "plt.xlim(-100, 1700)\n",
      "plt.ylim(26,73)\n",
      "values_1 = np.sin(np.pi * np.linspace(0, 4, n_items))\n",
      "values_2 = np.sin(np.pi * np.linspace(0, 4, n_items/2))\n",
      "values_3 = np.sin(np.pi * np.linspace(0, 4, n_items/4))\n",
      "\n",
      "time_1 = np.arange(len(values_1)) * 100\n",
      "time_2 = np.arange(len(values_2)) * 100 * values_2_factor\n",
      "time_3 = np.arange(len(values_3)) * 100 * values_3_factor\n",
      "\n",
      "melody_1 = factor*3*voice_1_amp*values_1+voice_1_offset\n",
      "melody_2 = factor*3*voice_2_amp*values_2+voice_2_offset\n",
      "melody_3 = factor*3*voice_3_amp*values_3+voice_3_offset\n",
      "\n",
      "plt.scatter(time_1, melody_1, color=color1)\n",
      "plt.scatter(time_2, melody_2, color=color2)\n",
      "plt.scatter(time_3, melody_3, color=color3)\n",
      "\n",
      "print time_3, melody_3\n",
      "\n",
      "for idx in xrange(len(melody_1)-1):\n",
      "    plt.hlines(melody_1[idx], time_1[idx], time_1[idx+1], color=color1)\n",
      "plt.hlines(melody_1[-1], time_1[-1], 1600, color=color1)\n",
      "    \n",
      "for idx in xrange(len(melody_2)-1):\n",
      "    plt.hlines(melody_2[idx], time_2[idx], time_2[idx+1], color=color2)\n",
      "plt.hlines(melody_2[-1], time_2[-1], 1600, color=color2)\n",
      "\n",
      "for idx in xrange(len(melody_3)-1):\n",
      "    plt.hlines(melody_3[idx], time_3[idx], time_3[idx+1], color=color3)\n",
      "plt.hlines(melody_3[-1], time_3[-1], 1600, color=color3)\n",
      "plt.xlabel('Time(ms)', fontsize=18)\n",
      "plt.ylabel('MIDI Note', fontsize=18)"
     ],
     "language": "python",
     "metadata": {},
     "outputs": [
      {
       "output_type": "stream",
       "stream": "stdout",
       "text": [
        "[  0 400 800] [ 68.  68.  68.]\n"
       ]
      },
      {
       "metadata": {},
       "output_type": "pyout",
       "prompt_number": 14,
       "text": [
        "<matplotlib.text.Text at 0x104519dd0>"
       ]
      },
      {
       "metadata": {},
       "output_type": "display_data",
       "png": "[encoded data removed]",
       "text": [
        "<matplotlib.figure.Figure at 0x107c98810>"
       ]
      }
     ],
     "prompt_number": 14
    },
    {
     "cell_type": "code",
     "collapsed": false,
     "input": [
      "from itertools import chain\n",
      "end = max(chain(time_1, time_1, time_3))\n",
      "\n",
      "time_1_full = np.append(time_1, end + end_offset)\n",
      "time_2_full = np.append(time_2, end + end_offset)\n",
      "time_3_full = np.append(time_3, end + end_offset)\n",
      "\n",
      "melody_1_full = np.append(melody_1, melody_1[-1])\n",
      "melody_2_full = np.append(melody_2, melody_1[-1])\n",
      "melody_3_full = np.append(melody_3, melody_3[-1])\n",
      "\n",
      "time_3_full, melody_3_full"
     ],
     "language": "python",
     "metadata": {},
     "outputs": [
      {
       "metadata": {},
       "output_type": "pyout",
       "prompt_number": 15,
       "text": [
        "(array([   0,  400,  800, 1500]), array([ 68.,  68.,  68.,  68.]))"
       ]
      }
     ],
     "prompt_number": 15
    },
    {
     "cell_type": "code",
     "collapsed": false,
     "input": [
      "piece3[1] = (melody_1_full, time_1_full)\n",
      "piece3[2] = (melody_2_full, time_2_full)\n",
      "piece3[3] = (melody_3_full, time_3_full)\n",
      "piece3_quantized = quantizeToShortest(piece3)\n",
      "piece3_quantized_interval = pieceAbs2pieceInt(piece3_quantized)"
     ],
     "language": "python",
     "metadata": {},
     "outputs": [],
     "prompt_number": 16
    },
    {
     "cell_type": "heading",
     "level": 2,
     "metadata": {},
     "source": [
      "Similarity With Vanilla DTW"
     ]
    },
    {
     "cell_type": "code",
     "collapsed": false,
     "input": [
      "distance1, trellis1 = DTW(piece1_quantized.values(), piece1_quantized.values())\n",
      "distance1_int, trellis1_int = DTW(piece1_quantized_interval.values(), piece1_quantized_interval.values())\n",
      "distance1 = distance1 / len(trellis1)\n",
      "distance1_int = distance1_int / len(trellis1_int)\n",
      "similarity1 = 1 / (1+distance1)\n",
      "similarity1_int = 1 / (1+distance1_int)\n",
      "distance1, similarity1, distance1_int, similarity1_int"
     ],
     "language": "python",
     "metadata": {},
     "outputs": [
      {
       "metadata": {},
       "output_type": "pyout",
       "prompt_number": 19,
       "text": [
        "(0.0, 1.0, 0.0, 1.0)"
       ]
      }
     ],
     "prompt_number": 19
    },
    {
     "cell_type": "code",
     "collapsed": false,
     "input": [
      "distance2, trellis2 = DTW(piece1_quantized.values(), piece2_quantized.values())\n",
      "distance2_int, trellis2_int = DTW(piece1_quantized_interval.values(), piece2_quantized_interval.values())\n",
      "distance2 = distance2 / len(trellis2)\n",
      "distance2_int = distance2_int / len(trellis2_int)\n",
      "similarity2 = 1 / (1+distance2)\n",
      "similarity2_int = 1 / (1+distance2_int)\n",
      "distance2, similarity2, distance2_int, similarity2_int"
     ],
     "language": "python",
     "metadata": {},
     "outputs": [
      {
       "metadata": {},
       "output_type": "pyout",
       "prompt_number": 22,
       "text": [
        "(2.3816464624375198,\n",
        " 0.29571394026778053,\n",
        " 1.4252733150897372,\n",
        " 0.41232466204040974)"
       ]
      }
     ],
     "prompt_number": 22
    },
    {
     "cell_type": "code",
     "collapsed": false,
     "input": [
      "distance3, trellis3 = DTW(piece1_quantized.values(), piece3_quantized.values())\n",
      "distance3_int, trellis3_int = DTW(piece1_quantized_interval.values(), piece3_quantized_interval.values())\n",
      "distance3 = distance3 / len(trellis3)\n",
      "distance3_int = distance3_int / len(trellis3_int)\n",
      "similarity3 = 1 / (1+distance3)\n",
      "similarity3_int = 1 / (1+distance3_int)\n",
      "distance3, similarity3, distance3_int, similarity3_int"
     ],
     "language": "python",
     "metadata": {},
     "outputs": [
      {
       "metadata": {},
       "output_type": "pyout",
       "prompt_number": 24,
       "text": [
        "(1.8618454629011612,\n",
        " 0.34942487739581235,\n",
        " 1.2032015210964933,\n",
        " 0.45388494444317484)"
       ]
      }
     ],
     "prompt_number": 24
    },
    {
     "cell_type": "code",
     "collapsed": false,
     "input": [
      "#for plotting   \n",
      "#length = len(chords.keys())\n",
      "#indices = np.arange(length)\n",
      "width = 0.2\n",
      "idx=0\n",
      "\n",
      "plt.bar([0,4,8], [similarity1, similarity2,similarity3], color=plt.cm.RdYlBu(0.3), label='Absolute')\n",
      "plt.bar([1.0,5,9], [similarity1_int, similarity2_int,similarity3_int], color=plt.cm.RdYlBu(0.6), label='Interval')\n",
      "plt.bar([2.0,6,10], [0.5*(similarity1+similarity1_int), 0.5*(similarity2+similarity2_int),0.5*(similarity3+similarity3_int)], color=plt.cm.RdYlBu(0.9), label='Average')\n",
      "\n",
      "plt.legend(prop={'size':14})\n",
      "plt.ylabel(\"Similarity\", fontsize=18)\n",
      "plt.xticks([1.4, 5.4, 9.4], ['1', '2', '3'])"
     ],
     "language": "python",
     "metadata": {},
     "outputs": [
      {
       "metadata": {},
       "output_type": "pyout",
       "prompt_number": 39,
       "text": [
        "([<matplotlib.axis.XTick at 0x109d2e110>,\n",
        "  <matplotlib.axis.XTick at 0x109d72b50>,\n",
        "  <matplotlib.axis.XTick at 0x109fc6a50>],\n",
        " <a list of 3 Text xticklabel objects>)"
       ]
      },
      {
       "metadata": {},
       "output_type": "display_data",
       "png": "[encoded data removed]",
       "text": [
        "<matplotlib.figure.Figure at 0x109e06550>"
       ]
      }
     ],
     "prompt_number": 39
    },
    {
     "cell_type": "code",
     "collapsed": false,
     "input": [
      "distance = 0\n",
      "keys =(piece1_quantized.keys())\n",
      "for key in keys:\n",
      "    values1 = piece1_quantized[key]\n",
      "    values2 = piece1_quantized[key]\n",
      "    if values1 and values2:\n",
      "      curr_distance, _ = DTW(list(values1), list(values2))\n",
      "      distance += curr_distance\n",
      "distance = distance / len(keys)\n",
      "similarity1 = 1 / (1 + distance)"
     ],
     "language": "python",
     "metadata": {},
     "outputs": [],
     "prompt_number": 24
    },
    {
     "cell_type": "code",
     "collapsed": false,
     "input": [
      "distance = 0\n",
      "keys =(piece1_quantized.keys())\n",
      "for key in keys:\n",
      "    values1 = piece1_quantized[key]\n",
      "    values2 = piece2_quantized[key]\n",
      "    if values1 and values2:\n",
      "      curr_distance, _ = DTW(list(values1), list(values2))\n",
      "      distance += curr_distance\n",
      "distance = distance / len(keys)\n",
      "similarity2 = 1 / (1 + distance)\n",
      "similarity2\n"
     ],
     "language": "python",
     "metadata": {},
     "outputs": [
      {
       "metadata": {},
       "output_type": "pyout",
       "prompt_number": 25,
       "text": [
        "0.33267567200716669"
       ]
      }
     ],
     "prompt_number": 25
    },
    {
     "cell_type": "code",
     "collapsed": false,
     "input": [
      "distance = 0\n",
      "keys =(piece1_quantized.keys())\n",
      "for key in keys:\n",
      "    values1 = piece1_quantized[key]\n",
      "    values2 = piece3_quantized[key]\n",
      "    if values1 and values2:\n",
      "      curr_distance, _ = DTW(list(values1), list(values2))\n",
      "      distance += curr_distance\n",
      "distance = distance / len(keys)\n",
      "similarity3 = 1 / (1 + distance)\n",
      "similarity3"
     ],
     "language": "python",
     "metadata": {},
     "outputs": [
      {
       "metadata": {},
       "output_type": "pyout",
       "prompt_number": 26,
       "text": [
        "0.38413849842562336"
       ]
      }
     ],
     "prompt_number": 26
    },
    {
     "cell_type": "code",
     "collapsed": false,
     "input": [
      "#for plotting   \n",
      "#length = len(chords.keys())\n",
      "#indices = np.arange(length)\n",
      "width = 0.2\n",
      "idx=0\n",
      "\n",
      "plt.bar([0,1,2], [similarity1, similarity2,similarity3], color='orange') \n",
      "plt.ylabel(\"Similarity\", fontsize=18)\n",
      "plt.xticks([0.4, 1.4, 2.4], ['1', '2', '3'])"
     ],
     "language": "python",
     "metadata": {},
     "outputs": [
      {
       "metadata": {},
       "output_type": "pyout",
       "prompt_number": 27,
       "text": [
        "([<matplotlib.axis.XTick at 0x108264110>,\n",
        "  <matplotlib.axis.XTick at 0x1088f86d0>,\n",
        "  <matplotlib.axis.XTick at 0x1089f5650>],\n",
        " <a list of 3 Text xticklabel objects>)"
       ]
      },
      {
       "metadata": {},
       "output_type": "display_data",
       "png": "[encoded data removed]",
       "text": [
        "<matplotlib.figure.Figure at 0x10823fe50>"
       ]
      }
     ],
     "prompt_number": 27
    },
    {
     "cell_type": "code",
     "collapsed": false,
     "input": [],
     "language": "python",
     "metadata": {},
     "outputs": [],
     "prompt_number": 27
    },
    {
     "cell_type": "code",
     "collapsed": false,
     "input": [],
     "language": "python",
     "metadata": {},
     "outputs": []
    }
   ],
   "metadata": {}
  }
 ]
}