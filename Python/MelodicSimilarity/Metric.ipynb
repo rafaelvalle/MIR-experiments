{
 "metadata": {
  "name": "",
  "signature": "sha256:97fdf8b934638e44a0e3a1dbab485842e57232da1dccf99e1f674fc69859b21d"
 },
 "nbformat": 3,
 "nbformat_minor": 0,
 "worksheets": [
  {
   "cells": [
    {
     "cell_type": "heading",
     "level": 1,
     "metadata": {},
     "source": [
      "Metric Test"
     ]
    },
    {
     "cell_type": "heading",
     "level": 4,
     "metadata": {},
     "source": [
      "This notebook tests the perceptual distance metric for symmetry and triangle inequality in major, minor, augmented and diminished triads"
     ]
    },
    {
     "cell_type": "heading",
     "level": 4,
     "metadata": {},
     "source": [
      "As usual, we'll start by loading the required libraries"
     ]
    },
    {
     "cell_type": "code",
     "collapsed": false,
     "input": [
      "import numpy as np\n",
      "from melodicSimilarity import *\n",
      "from music_tools import *"
     ],
     "language": "python",
     "metadata": {},
     "outputs": [],
     "prompt_number": 1
    },
    {
     "cell_type": "heading",
     "level": 4,
     "metadata": {},
     "source": [
      "We declare prime forms of major, minor, diminished and augmented triads"
     ]
    },
    {
     "cell_type": "code",
     "collapsed": false,
     "input": [
      "chords = {}\n",
      "chords['maj'] = np.array([0,4,7])\n",
      "chords['min'] = np.array([0,3,7])\n",
      "chords['dim'] = np.array([0,3,6])\n",
      "chords['aug'] = np.array([0,4,8])"
     ],
     "language": "python",
     "metadata": {},
     "outputs": [],
     "prompt_number": 2
    },
    {
     "cell_type": "heading",
     "level": 3,
     "metadata": {},
     "source": [
      "Symmetry"
     ]
    },
    {
     "cell_type": "heading",
     "level": 4,
     "metadata": {},
     "source": [
      "The above mentioned four triads with pitch class 0 as root"
     ]
    },
    {
     "cell_type": "code",
     "collapsed": false,
     "input": [
      "triad_combinations = generate_combinations(['maj', 'min', 'dim', 'aug'], (2,2))\n",
      "failed = False\n",
      "for combination in triad_combinations:\n",
      "  distances = [0,0]\n",
      "  for idx in xrange(2):\n",
      "    triad_a = chords[combination[(0+idx)%2]]\n",
      "    triad_b = chords[combination[(1+idx)%2]]\n",
      "    distance, _ = DTW(triad_a, triad_b)\n",
      "    distances[idx] = distance\n",
      "  if not distances[0] == distances[1]:\n",
      "    failed = True\n",
      "    break\n",
      "if not failed:\n",
      "    print \"Within given constrains, symmetry holds!\""
     ],
     "language": "python",
     "metadata": {},
     "outputs": [
      {
       "output_type": "stream",
       "stream": "stdout",
       "text": [
        "Within given constrains, symmetry holds!\n"
       ]
      }
     ],
     "prompt_number": 3
    },
    {
     "cell_type": "heading",
     "level": 3,
     "metadata": {},
     "source": [
      "Triangle Inequality"
     ]
    },
    {
     "cell_type": "heading",
     "level": 4,
     "metadata": {},
     "source": [
      "We'll check he triangle inequality using a combination of all 23 quarter-tone pitch classes, and triad pair combinations"
     ]
    },
    {
     "cell_type": "code",
     "collapsed": false,
     "input": [
      "note = np.array([0])\n",
      "failed = False\n",
      "for combination in triad_combinations:\n",
      "  for qt_a in xrange(24):\n",
      "    A = note + qt_a\n",
      "    for qt_b in xrange(24):\n",
      "      B = chords[combination[0]] + qt_b/2\n",
      "      distance_A_B, _ = DTW(A,B)\n",
      "      for qt_c in xrange(24):\n",
      "        C = chords[combination[1]] + qt_c/2\n",
      "        distance_B_C, _ = DTW(A,C)\n",
      "        distance_A_C, _ = DTW(A,C)\n",
      "        if not (distance_A_C <= (distance_A_B + distance_B_C)):\n",
      "          failed = True\n",
      "          break"
     ],
     "language": "python",
     "metadata": {},
     "outputs": [],
     "prompt_number": 4
    },
    {
     "cell_type": "code",
     "collapsed": false,
     "input": [
      "if not failed:\n",
      "  print \"Within given constrains, triangle inequality holds!\""
     ],
     "language": "python",
     "metadata": {},
     "outputs": [
      {
       "output_type": "stream",
       "stream": "stdout",
       "text": [
        "Within given constrains, triangle inequality holds!\n"
       ]
      }
     ],
     "prompt_number": 5
    },
    {
     "cell_type": "heading",
     "level": 4,
     "metadata": {},
     "source": [
      "Great! For the cases above, the perceptual metric is symmetric and the triangle inequality holds!"
     ]
    }
   ],
   "metadata": {}
  }
 ]
}