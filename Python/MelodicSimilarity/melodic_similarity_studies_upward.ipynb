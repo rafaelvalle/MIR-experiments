{
 "metadata": {
  "name": "",
  "signature": "sha256:304ce6065c9c3650f864ea1144e90e05120c921b21cc2fef1dfa533b3528000d"
 },
 "nbformat": 3,
 "nbformat_minor": 0,
 "worksheets": [
  {
   "cells": [
    {
     "cell_type": "heading",
     "level": 1,
     "metadata": {},
     "source": [
      "Melodic Similarity Studies"
     ]
    },
    {
     "cell_type": "heading",
     "level": 4,
     "metadata": {},
     "source": [
      "This notebook compares the melodic similarity of excerpts of \n",
      "Contemporary Music inspired excerpts"
     ]
    },
    {
     "cell_type": "heading",
     "level": 4,
     "metadata": {},
     "source": [
      "Load the necessary Python libraries"
     ]
    },
    {
     "cell_type": "code",
     "collapsed": false,
     "input": [
      "import numpy as np\n",
      "import scipy as sp\n",
      "import matplotlib.pylab as plt\n",
      "%matplotlib inline\n",
      "import music21\n",
      "music21.environment.set('musicxmlPath', '/Applications/MuseScore.app')\n",
      "from music21 import *\n",
      "from IPython.display import Image\n",
      "from melodic_similarity import *\n",
      "from music_tools import *\n",
      "from scipy.spatial.distance import cosine"
     ],
     "language": "python",
     "metadata": {},
     "outputs": [],
     "prompt_number": 1
    },
    {
     "cell_type": "code",
     "collapsed": false,
     "input": [
      "#matplotlib configurations\n",
      "#font settings\n",
      "font = {'weight' : 'normal', \n",
      "        'size'   : 14}\n",
      "\n",
      "plt.rc('font', **font)"
     ],
     "language": "python",
     "metadata": {},
     "outputs": [],
     "prompt_number": 44
    },
    {
     "cell_type": "code",
     "collapsed": false,
     "input": [
      "start = 72\n",
      "end = 72\n",
      "#distance_halfsteps = [0, 0.25, 0.5, 0.75, 1,2,3,6,12]\n",
      "distance_halfsteps = [0, 1, 6,10]\n",
      "gliss_shapes = {}\n",
      "for distance in distance_halfsteps:\n",
      "    gliss_shapes[distance] = (start-distance,end)"
     ],
     "language": "python",
     "metadata": {},
     "outputs": [],
     "prompt_number": 50
    },
    {
     "cell_type": "code",
     "collapsed": false,
     "input": [
      "i=1\n",
      "for label, values in sorted(gliss_shapes.items()):\n",
      "    this_color = plt.cm.RdYlBu(i*0.4/len(gliss_shapes))\n",
      "    plt.plot([0,1000], values, color=this_color)\n",
      "    plt.scatter([0], values[0],color=this_color)\n",
      "    i += 1\n",
      "\n",
      "plt.xlim(-50, 1050)\n",
      "plt.ylim(61.5,start+0.5)\n",
      "plt.yticks([62,66,71,72])\n",
      "plt.ylabel('MIDI Note', fontsize=18)\n",
      "plt.xlabel('Time(ms)', fontsize=18)\n",
      "fig = plt.figure(figsize=(6,4), dpi=500)"
     ],
     "language": "python",
     "metadata": {},
     "outputs": [
      {
       "metadata": {},
       "output_type": "display_data",
       "png": "[encoded data removed]",
       "text": [
        "<matplotlib.figure.Figure at 0x107cc7050>"
       ]
      },
      {
       "metadata": {},
       "output_type": "display_data",
       "text": [
        "<matplotlib.figure.Figure at 0x107dbe090>"
       ]
      }
     ],
     "prompt_number": 52
    },
    {
     "cell_type": "code",
     "collapsed": false,
     "input": [
      "last_note = start\n",
      "melodies = {}\n",
      "intervals = [1,6,10]\n",
      "for interval in intervals:\n",
      "    melodies['%d-%d' % (end-interval,end)] = np.linspace(last_note - interval, last_note, minNotes4Gliss(interval))\n",
      "\n",
      "for interval in intervals:\n",
      "    melodies['%d' % (end-interval)] = [last_note - interval]\n",
      "    \n",
      "melodies['%d' % end] = [end]"
     ],
     "language": "python",
     "metadata": {},
     "outputs": [],
     "prompt_number": 138
    },
    {
     "cell_type": "heading",
     "level": 2,
     "metadata": {},
     "source": [
      "Compute similarities"
     ]
    },
    {
     "cell_type": "code",
     "collapsed": false,
     "input": [
      "similarities = {}\n",
      "for interval, melody in sorted(melodies.items()):\n",
      "    distance, _ = DTW(melodies['%d' % end], melody)\n",
      "    similarity = 1 / (1 + distance)\n",
      "    similarities[interval] = similarity\n",
      "similarities"
     ],
     "language": "python",
     "metadata": {},
     "outputs": [
      {
       "metadata": {},
       "output_type": "pyout",
       "prompt_number": 141,
       "text": [
        "{'62': 0.61166633434426865,\n",
        " '62-72': 0.033206450374512905,\n",
        " '66': 0.54230815136835409,\n",
        " '66-72': 0.038833466446020391,\n",
        " '71': 0.50823750683722579,\n",
        " '71-72': 0.18900694333911444,\n",
        " '72': 1.0}"
       ]
      }
     ],
     "prompt_number": 141
    },
    {
     "cell_type": "code",
     "collapsed": false,
     "input": [
      "#for plotting   \n",
      "length = len(similarities)\n",
      "indices = np.arange(length) + 1\n",
      "width = 0.5\n",
      "\n",
      "plt.bar(indices, sorted(similarities.values(),reverse=True), width, color='orange')\n",
      "plt.ylabel(\"Similarity\", fontsize=18)\n",
      "plt.xlabel(\"Pitch or Gliss\", fontsize=18)\n",
      "plt.xticks(indices + width/2., sorted(similarities, key=similarities.get, reverse=True), rotation=90)\n",
      "plt.xlim(1, length + 0.5)\n",
      "fig = plt.figure(figsize=(6,4), dpi=500)"
     ],
     "language": "python",
     "metadata": {},
     "outputs": [
      {
       "metadata": {},
       "output_type": "display_data",
       "png": "[encoded data removed]",
       "text": [
        "<matplotlib.figure.Figure at 0x107a5a650>"
       ]
      },
      {
       "metadata": {},
       "output_type": "display_data",
       "text": [
        "<matplotlib.figure.Figure at 0x107d28810>"
       ]
      }
     ],
     "prompt_number": 140
    },
    {
     "cell_type": "code",
     "collapsed": false,
     "input": [],
     "language": "python",
     "metadata": {},
     "outputs": []
    }
   ],
   "metadata": {}
  }
 ]
}